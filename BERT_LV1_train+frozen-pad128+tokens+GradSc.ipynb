{
 "cells": [
  {
   "cell_type": "code",
   "execution_count": 1,
   "id": "826fbe21",
   "metadata": {
    "_cell_guid": "b1076dfc-b9ad-4769-8c92-a6c4dae69d19",
    "_uuid": "8f2839f25d086af736a60e9eeb907d3b93b6e0e5",
    "execution": {
     "iopub.execute_input": "2025-03-01T20:16:56.694773Z",
     "iopub.status.busy": "2025-03-01T20:16:56.694207Z",
     "iopub.status.idle": "2025-03-01T20:16:57.401343Z",
     "shell.execute_reply": "2025-03-01T20:16:57.400342Z"
    },
    "papermill": {
     "duration": 0.71957,
     "end_time": "2025-03-01T20:16:57.403214",
     "exception": false,
     "start_time": "2025-03-01T20:16:56.683644",
     "status": "completed"
    },
    "tags": []
   },
   "outputs": [
    {
     "name": "stdout",
     "output_type": "stream",
     "text": [
      "/kaggle/input/dataset-tachygraphy/Tachygraphy_EmotionMoodtags_Dataset.csv\n",
      "/kaggle/input/dataset-tachygraphy/Tachygraphy_MicroText-AIO-V3.xlsx\n",
      "/kaggle/input/dataset-tachygraphy/Tachygraphy_dataset_main.csv\n",
      "/kaggle/input/dataset-tachygraphy/Tachygraphy_MicroText-AIO-V2.xlsx\n"
     ]
    }
   ],
   "source": [
    "# This Python 3 environment comes with many helpful analytics libraries installed\n",
    "# It is defined by the kaggle/python Docker image: https://github.com/kaggle/docker-python\n",
    "# For example, here's several helpful packages to load\n",
    "\n",
    "import numpy as np # linear algebra\n",
    "import pandas as pd # data processing, CSV file I/O (e.g. pd.read_csv)\n",
    "\n",
    "# Input data files are available in the read-only \"../input/\" directory\n",
    "# For example, running this (by clicking run or pressing Shift+Enter) will list all files under the input directory\n",
    "\n",
    "import os\n",
    "for dirname, _, filenames in os.walk('/kaggle/input'):\n",
    "    for filename in filenames:\n",
    "        print(os.path.join(dirname, filename))\n",
    "\n",
    "# You can write up to 20GB to the current directory (/kaggle/working/) that gets preserved as output when you create a version using \"Save & Run All\" \n",
    "# You can also write temporary files to /kaggle/temp/, but they won't be saved outside of the current session"
   ]
  },
  {
   "cell_type": "code",
   "execution_count": 2,
   "id": "bc0dbece",
   "metadata": {
    "execution": {
     "iopub.execute_input": "2025-03-01T20:16:57.423758Z",
     "iopub.status.busy": "2025-03-01T20:16:57.423026Z",
     "iopub.status.idle": "2025-03-01T20:16:57.426675Z",
     "shell.execute_reply": "2025-03-01T20:16:57.425992Z"
    },
    "papermill": {
     "duration": 0.015178,
     "end_time": "2025-03-01T20:16:57.428143",
     "exception": false,
     "start_time": "2025-03-01T20:16:57.412965",
     "status": "completed"
    },
    "tags": []
   },
   "outputs": [],
   "source": [
    "# To ignore warinings\n",
    "import warnings\n",
    "warnings.filterwarnings('ignore')"
   ]
  },
  {
   "cell_type": "code",
   "execution_count": 3,
   "id": "394d2fa6",
   "metadata": {
    "execution": {
     "iopub.execute_input": "2025-03-01T20:16:57.448088Z",
     "iopub.status.busy": "2025-03-01T20:16:57.447857Z",
     "iopub.status.idle": "2025-03-01T20:17:01.012424Z",
     "shell.execute_reply": "2025-03-01T20:17:01.011762Z"
    },
    "papermill": {
     "duration": 3.576356,
     "end_time": "2025-03-01T20:17:01.014477",
     "exception": false,
     "start_time": "2025-03-01T20:16:57.438121",
     "status": "completed"
    },
    "tags": []
   },
   "outputs": [],
   "source": [
    "import torch\n",
    "device = torch.device(\"cuda\" if torch.cuda.is_available() else \"cpu\")"
   ]
  },
  {
   "cell_type": "code",
   "execution_count": 4,
   "id": "c4c712aa",
   "metadata": {
    "execution": {
     "iopub.execute_input": "2025-03-01T20:17:01.034783Z",
     "iopub.status.busy": "2025-03-01T20:17:01.034393Z",
     "iopub.status.idle": "2025-03-01T20:17:02.624269Z",
     "shell.execute_reply": "2025-03-01T20:17:02.623466Z"
    },
    "papermill": {
     "duration": 1.602152,
     "end_time": "2025-03-01T20:17:02.626387",
     "exception": false,
     "start_time": "2025-03-01T20:17:01.024235",
     "status": "completed"
    },
    "tags": []
   },
   "outputs": [],
   "source": [
    "import numpy as np\n",
    "import pandas as pd\n",
    "import re\n",
    "from nltk.corpus import stopwords\n",
    "from nltk.stem.porter import PorterStemmer\n",
    "from sklearn.feature_extraction.text import TfidfVectorizer"
   ]
  },
  {
   "cell_type": "code",
   "execution_count": 5,
   "id": "a8c9a5e8",
   "metadata": {
    "execution": {
     "iopub.execute_input": "2025-03-01T20:17:02.648426Z",
     "iopub.status.busy": "2025-03-01T20:17:02.647744Z",
     "iopub.status.idle": "2025-03-01T20:17:02.809583Z",
     "shell.execute_reply": "2025-03-01T20:17:02.808553Z"
    },
    "papermill": {
     "duration": 0.174701,
     "end_time": "2025-03-01T20:17:02.811248",
     "exception": false,
     "start_time": "2025-03-01T20:17:02.636547",
     "status": "completed"
    },
    "tags": []
   },
   "outputs": [
    {
     "name": "stdout",
     "output_type": "stream",
     "text": [
      "[nltk_data] Downloading package stopwords to /usr/share/nltk_data...\n",
      "[nltk_data]   Unzipping corpora/stopwords.zip.\n"
     ]
    },
    {
     "data": {
      "text/plain": [
       "True"
      ]
     },
     "execution_count": 5,
     "metadata": {},
     "output_type": "execute_result"
    }
   ],
   "source": [
    "import nltk\n",
    "nltk.download('stopwords')"
   ]
  },
  {
   "cell_type": "markdown",
   "id": "a99ce1e9",
   "metadata": {
    "papermill": {
     "duration": 0.009243,
     "end_time": "2025-03-01T20:17:02.830457",
     "exception": false,
     "start_time": "2025-03-01T20:17:02.821214",
     "status": "completed"
    },
    "tags": []
   },
   "source": [
    "# DATASET"
   ]
  },
  {
   "cell_type": "code",
   "execution_count": 6,
   "id": "921e1bd1",
   "metadata": {
    "execution": {
     "iopub.execute_input": "2025-03-01T20:17:02.850792Z",
     "iopub.status.busy": "2025-03-01T20:17:02.850031Z",
     "iopub.status.idle": "2025-03-01T20:17:02.894164Z",
     "shell.execute_reply": "2025-03-01T20:17:02.893378Z"
    },
    "papermill": {
     "duration": 0.056128,
     "end_time": "2025-03-01T20:17:02.895901",
     "exception": false,
     "start_time": "2025-03-01T20:17:02.839773",
     "status": "completed"
    },
    "tags": []
   },
   "outputs": [
    {
     "data": {
      "text/plain": [
       "(4958, 3)"
      ]
     },
     "execution_count": 6,
     "metadata": {},
     "output_type": "execute_result"
    }
   ],
   "source": [
    "df=pd.read_csv(\"/kaggle/input/dataset-tachygraphy/Tachygraphy_dataset_main.csv\")\n",
    "df.shape"
   ]
  },
  {
   "cell_type": "code",
   "execution_count": 7,
   "id": "7dc082b0",
   "metadata": {
    "execution": {
     "iopub.execute_input": "2025-03-01T20:17:02.918875Z",
     "iopub.status.busy": "2025-03-01T20:17:02.918224Z",
     "iopub.status.idle": "2025-03-01T20:17:02.935755Z",
     "shell.execute_reply": "2025-03-01T20:17:02.934966Z"
    },
    "papermill": {
     "duration": 0.030598,
     "end_time": "2025-03-01T20:17:02.937391",
     "exception": false,
     "start_time": "2025-03-01T20:17:02.906793",
     "status": "completed"
    },
    "tags": []
   },
   "outputs": [
    {
     "data": {
      "text/html": [
       "<div>\n",
       "<style scoped>\n",
       "    .dataframe tbody tr th:only-of-type {\n",
       "        vertical-align: middle;\n",
       "    }\n",
       "\n",
       "    .dataframe tbody tr th {\n",
       "        vertical-align: top;\n",
       "    }\n",
       "\n",
       "    .dataframe thead th {\n",
       "        text-align: right;\n",
       "    }\n",
       "</style>\n",
       "<table border=\"1\" class=\"dataframe\">\n",
       "  <thead>\n",
       "    <tr style=\"text-align: right;\">\n",
       "      <th></th>\n",
       "      <th>Text</th>\n",
       "      <th>Meaning</th>\n",
       "      <th>Sentiment</th>\n",
       "    </tr>\n",
       "  </thead>\n",
       "  <tbody>\n",
       "    <tr>\n",
       "      <th>0</th>\n",
       "      <td>Last session of the day http://twitpic.com/67ezh</td>\n",
       "      <td>Last session of the day http://twitpic.com/67ezh</td>\n",
       "      <td>neutral</td>\n",
       "    </tr>\n",
       "    <tr>\n",
       "      <th>1</th>\n",
       "      <td>Shanghai is also really exciting (precisely --...</td>\n",
       "      <td>Shanghai is also really exciting (precisely --...</td>\n",
       "      <td>positive</td>\n",
       "    </tr>\n",
       "    <tr>\n",
       "      <th>2</th>\n",
       "      <td>submit the report ASAP!</td>\n",
       "      <td>submit the report as soon as possilbe</td>\n",
       "      <td>negative</td>\n",
       "    </tr>\n",
       "    <tr>\n",
       "      <th>3</th>\n",
       "      <td>happy bday!</td>\n",
       "      <td>Happy Birthday!</td>\n",
       "      <td>positive</td>\n",
       "    </tr>\n",
       "    <tr>\n",
       "      <th>4</th>\n",
       "      <td>The OGs - I like it!!</td>\n",
       "      <td>The original gangsters - i like it!</td>\n",
       "      <td>positive</td>\n",
       "    </tr>\n",
       "  </tbody>\n",
       "</table>\n",
       "</div>"
      ],
      "text/plain": [
       "                                                Text  \\\n",
       "0   Last session of the day http://twitpic.com/67ezh   \n",
       "1  Shanghai is also really exciting (precisely --...   \n",
       "2                            submit the report ASAP!   \n",
       "3                                        happy bday!   \n",
       "4                              The OGs - I like it!!   \n",
       "\n",
       "                                             Meaning Sentiment  \n",
       "0   Last session of the day http://twitpic.com/67ezh   neutral  \n",
       "1  Shanghai is also really exciting (precisely --...  positive  \n",
       "2              submit the report as soon as possilbe  negative  \n",
       "3                                    Happy Birthday!  positive  \n",
       "4                The original gangsters - i like it!  positive  "
      ]
     },
     "execution_count": 7,
     "metadata": {},
     "output_type": "execute_result"
    }
   ],
   "source": [
    "df.head()"
   ]
  },
  {
   "cell_type": "code",
   "execution_count": 8,
   "id": "26ccc271",
   "metadata": {
    "execution": {
     "iopub.execute_input": "2025-03-01T20:17:02.958213Z",
     "iopub.status.busy": "2025-03-01T20:17:02.957587Z",
     "iopub.status.idle": "2025-03-01T20:17:02.961386Z",
     "shell.execute_reply": "2025-03-01T20:17:02.960629Z"
    },
    "papermill": {
     "duration": 0.016458,
     "end_time": "2025-03-01T20:17:02.963472",
     "exception": false,
     "start_time": "2025-03-01T20:17:02.947014",
     "status": "completed"
    },
    "tags": []
   },
   "outputs": [],
   "source": [
    "# df.drop(columns=['Sentiment.1'],inplace=True)"
   ]
  },
  {
   "cell_type": "markdown",
   "id": "f317ddef",
   "metadata": {
    "papermill": {
     "duration": 0.010341,
     "end_time": "2025-03-01T20:17:02.993536",
     "exception": false,
     "start_time": "2025-03-01T20:17:02.983195",
     "status": "completed"
    },
    "tags": []
   },
   "source": [
    "## PREPROCESSING"
   ]
  },
  {
   "cell_type": "code",
   "execution_count": 9,
   "id": "3f47ac6d",
   "metadata": {
    "execution": {
     "iopub.execute_input": "2025-03-01T20:17:03.014034Z",
     "iopub.status.busy": "2025-03-01T20:17:03.013453Z",
     "iopub.status.idle": "2025-03-01T20:17:03.022032Z",
     "shell.execute_reply": "2025-03-01T20:17:03.021280Z"
    },
    "papermill": {
     "duration": 0.020668,
     "end_time": "2025-03-01T20:17:03.023762",
     "exception": false,
     "start_time": "2025-03-01T20:17:03.003094",
     "status": "completed"
    },
    "tags": []
   },
   "outputs": [],
   "source": [
    "df=df.drop('Meaning',axis=1)"
   ]
  },
  {
   "cell_type": "code",
   "execution_count": 10,
   "id": "68ed1cdf",
   "metadata": {
    "execution": {
     "iopub.execute_input": "2025-03-01T20:17:03.044151Z",
     "iopub.status.busy": "2025-03-01T20:17:03.043585Z",
     "iopub.status.idle": "2025-03-01T20:17:03.049323Z",
     "shell.execute_reply": "2025-03-01T20:17:03.048550Z"
    },
    "papermill": {
     "duration": 0.017787,
     "end_time": "2025-03-01T20:17:03.050948",
     "exception": false,
     "start_time": "2025-03-01T20:17:03.033161",
     "status": "completed"
    },
    "tags": []
   },
   "outputs": [
    {
     "data": {
      "text/plain": [
       "(4958, 2)"
      ]
     },
     "execution_count": 10,
     "metadata": {},
     "output_type": "execute_result"
    }
   ],
   "source": [
    "df.shape"
   ]
  },
  {
   "cell_type": "code",
   "execution_count": 11,
   "id": "e53c500e",
   "metadata": {
    "execution": {
     "iopub.execute_input": "2025-03-01T20:17:03.071241Z",
     "iopub.status.busy": "2025-03-01T20:17:03.070994Z",
     "iopub.status.idle": "2025-03-01T20:17:03.075561Z",
     "shell.execute_reply": "2025-03-01T20:17:03.074700Z"
    },
    "papermill": {
     "duration": 0.01655,
     "end_time": "2025-03-01T20:17:03.077317",
     "exception": false,
     "start_time": "2025-03-01T20:17:03.060767",
     "status": "completed"
    },
    "tags": []
   },
   "outputs": [],
   "source": [
    "df = df.rename(columns={'Text': 'tweet'})"
   ]
  },
  {
   "cell_type": "code",
   "execution_count": 12,
   "id": "f8ef6ad6",
   "metadata": {
    "execution": {
     "iopub.execute_input": "2025-03-01T20:17:03.098893Z",
     "iopub.status.busy": "2025-03-01T20:17:03.098189Z",
     "iopub.status.idle": "2025-03-01T20:17:03.102355Z",
     "shell.execute_reply": "2025-03-01T20:17:03.101672Z"
    },
    "papermill": {
     "duration": 0.016345,
     "end_time": "2025-03-01T20:17:03.103976",
     "exception": false,
     "start_time": "2025-03-01T20:17:03.087631",
     "status": "completed"
    },
    "tags": []
   },
   "outputs": [],
   "source": [
    "df = df.rename(columns={'Sentiment': 'class'})"
   ]
  },
  {
   "cell_type": "code",
   "execution_count": 13,
   "id": "1c5b9399",
   "metadata": {
    "execution": {
     "iopub.execute_input": "2025-03-01T20:17:03.124965Z",
     "iopub.status.busy": "2025-03-01T20:17:03.124346Z",
     "iopub.status.idle": "2025-03-01T20:17:03.140136Z",
     "shell.execute_reply": "2025-03-01T20:17:03.139392Z"
    },
    "papermill": {
     "duration": 0.028129,
     "end_time": "2025-03-01T20:17:03.141823",
     "exception": false,
     "start_time": "2025-03-01T20:17:03.113694",
     "status": "completed"
    },
    "tags": []
   },
   "outputs": [
    {
     "data": {
      "text/plain": [
       "class\n",
       "neutral     1743\n",
       "positive    1643\n",
       "negative    1572\n",
       "Name: count, dtype: int64"
      ]
     },
     "execution_count": 13,
     "metadata": {},
     "output_type": "execute_result"
    }
   ],
   "source": [
    "df['class'] = df['class'].str.lower()\n",
    "sentiment_counts = df['class'].value_counts()\n",
    "sentiment_counts"
   ]
  },
  {
   "cell_type": "code",
   "execution_count": 14,
   "id": "ee787e0a",
   "metadata": {
    "execution": {
     "iopub.execute_input": "2025-03-01T20:17:03.162467Z",
     "iopub.status.busy": "2025-03-01T20:17:03.162240Z",
     "iopub.status.idle": "2025-03-01T20:17:03.167618Z",
     "shell.execute_reply": "2025-03-01T20:17:03.166857Z"
    },
    "papermill": {
     "duration": 0.018185,
     "end_time": "2025-03-01T20:17:03.169760",
     "exception": false,
     "start_time": "2025-03-01T20:17:03.151575",
     "status": "completed"
    },
    "tags": []
   },
   "outputs": [],
   "source": [
    "df = df[df['class'] != \"neutral\"]  ###droping neutral columns"
   ]
  },
  {
   "cell_type": "code",
   "execution_count": 15,
   "id": "38d6a4c0",
   "metadata": {
    "execution": {
     "iopub.execute_input": "2025-03-01T20:17:03.198000Z",
     "iopub.status.busy": "2025-03-01T20:17:03.197231Z",
     "iopub.status.idle": "2025-03-01T20:17:03.204397Z",
     "shell.execute_reply": "2025-03-01T20:17:03.203686Z"
    },
    "papermill": {
     "duration": 0.01954,
     "end_time": "2025-03-01T20:17:03.205952",
     "exception": false,
     "start_time": "2025-03-01T20:17:03.186412",
     "status": "completed"
    },
    "tags": []
   },
   "outputs": [],
   "source": [
    "from sklearn.preprocessing import LabelEncoder\n",
    "label_encoder = LabelEncoder()\n",
    "label_encoder.fit(df['class'])\n",
    "encoded_labels = label_encoder.transform(df['class'])\n",
    "df['class'] = encoded_labels"
   ]
  },
  {
   "cell_type": "code",
   "execution_count": 16,
   "id": "00172824",
   "metadata": {
    "execution": {
     "iopub.execute_input": "2025-03-01T20:17:03.227736Z",
     "iopub.status.busy": "2025-03-01T20:17:03.227126Z",
     "iopub.status.idle": "2025-03-01T20:17:03.236239Z",
     "shell.execute_reply": "2025-03-01T20:17:03.235425Z"
    },
    "papermill": {
     "duration": 0.022116,
     "end_time": "2025-03-01T20:17:03.237930",
     "exception": false,
     "start_time": "2025-03-01T20:17:03.215814",
     "status": "completed"
    },
    "tags": []
   },
   "outputs": [
    {
     "data": {
      "text/html": [
       "<div>\n",
       "<style scoped>\n",
       "    .dataframe tbody tr th:only-of-type {\n",
       "        vertical-align: middle;\n",
       "    }\n",
       "\n",
       "    .dataframe tbody tr th {\n",
       "        vertical-align: top;\n",
       "    }\n",
       "\n",
       "    .dataframe thead th {\n",
       "        text-align: right;\n",
       "    }\n",
       "</style>\n",
       "<table border=\"1\" class=\"dataframe\">\n",
       "  <thead>\n",
       "    <tr style=\"text-align: right;\">\n",
       "      <th></th>\n",
       "      <th>tweet</th>\n",
       "      <th>class</th>\n",
       "    </tr>\n",
       "  </thead>\n",
       "  <tbody>\n",
       "    <tr>\n",
       "      <th>1</th>\n",
       "      <td>Shanghai is also really exciting (precisely --...</td>\n",
       "      <td>1</td>\n",
       "    </tr>\n",
       "    <tr>\n",
       "      <th>2</th>\n",
       "      <td>submit the report ASAP!</td>\n",
       "      <td>0</td>\n",
       "    </tr>\n",
       "    <tr>\n",
       "      <th>3</th>\n",
       "      <td>happy bday!</td>\n",
       "      <td>1</td>\n",
       "    </tr>\n",
       "    <tr>\n",
       "      <th>4</th>\n",
       "      <td>The OGs - I like it!!</td>\n",
       "      <td>1</td>\n",
       "    </tr>\n",
       "    <tr>\n",
       "      <th>5</th>\n",
       "      <td>that`s great!! weee!! visitors!</td>\n",
       "      <td>1</td>\n",
       "    </tr>\n",
       "  </tbody>\n",
       "</table>\n",
       "</div>"
      ],
      "text/plain": [
       "                                               tweet  class\n",
       "1  Shanghai is also really exciting (precisely --...      1\n",
       "2                            submit the report ASAP!      0\n",
       "3                                        happy bday!      1\n",
       "4                              The OGs - I like it!!      1\n",
       "5                    that`s great!! weee!! visitors!      1"
      ]
     },
     "execution_count": 16,
     "metadata": {},
     "output_type": "execute_result"
    }
   ],
   "source": [
    "df.head()"
   ]
  },
  {
   "cell_type": "code",
   "execution_count": 17,
   "id": "9a1977ea",
   "metadata": {
    "execution": {
     "iopub.execute_input": "2025-03-01T20:17:03.259425Z",
     "iopub.status.busy": "2025-03-01T20:17:03.258714Z",
     "iopub.status.idle": "2025-03-01T20:17:03.267749Z",
     "shell.execute_reply": "2025-03-01T20:17:03.267000Z"
    },
    "papermill": {
     "duration": 0.022108,
     "end_time": "2025-03-01T20:17:03.269955",
     "exception": false,
     "start_time": "2025-03-01T20:17:03.247847",
     "status": "completed"
    },
    "tags": []
   },
   "outputs": [
    {
     "data": {
      "text/plain": [
       "tweet    1\n",
       "class    0\n",
       "dtype: int64"
      ]
     },
     "execution_count": 17,
     "metadata": {},
     "output_type": "execute_result"
    }
   ],
   "source": [
    "df.isnull().sum()"
   ]
  },
  {
   "cell_type": "code",
   "execution_count": 18,
   "id": "e197690d",
   "metadata": {
    "execution": {
     "iopub.execute_input": "2025-03-01T20:17:03.298498Z",
     "iopub.status.busy": "2025-03-01T20:17:03.297828Z",
     "iopub.status.idle": "2025-03-01T20:17:03.302975Z",
     "shell.execute_reply": "2025-03-01T20:17:03.302064Z"
    },
    "papermill": {
     "duration": 0.01883,
     "end_time": "2025-03-01T20:17:03.304583",
     "exception": false,
     "start_time": "2025-03-01T20:17:03.285753",
     "status": "completed"
    },
    "tags": []
   },
   "outputs": [],
   "source": [
    "df=df.fillna('')"
   ]
  },
  {
   "cell_type": "code",
   "execution_count": 19,
   "id": "5bc9cd69",
   "metadata": {
    "execution": {
     "iopub.execute_input": "2025-03-01T20:17:03.363850Z",
     "iopub.status.busy": "2025-03-01T20:17:03.363158Z",
     "iopub.status.idle": "2025-03-01T20:17:03.371234Z",
     "shell.execute_reply": "2025-03-01T20:17:03.370174Z"
    },
    "papermill": {
     "duration": 0.058199,
     "end_time": "2025-03-01T20:17:03.372941",
     "exception": false,
     "start_time": "2025-03-01T20:17:03.314742",
     "status": "completed"
    },
    "tags": []
   },
   "outputs": [
    {
     "data": {
      "text/html": [
       "<div>\n",
       "<style scoped>\n",
       "    .dataframe tbody tr th:only-of-type {\n",
       "        vertical-align: middle;\n",
       "    }\n",
       "\n",
       "    .dataframe tbody tr th {\n",
       "        vertical-align: top;\n",
       "    }\n",
       "\n",
       "    .dataframe thead th {\n",
       "        text-align: right;\n",
       "    }\n",
       "</style>\n",
       "<table border=\"1\" class=\"dataframe\">\n",
       "  <thead>\n",
       "    <tr style=\"text-align: right;\">\n",
       "      <th></th>\n",
       "      <th>tweet</th>\n",
       "      <th>class</th>\n",
       "    </tr>\n",
       "  </thead>\n",
       "  <tbody>\n",
       "    <tr>\n",
       "      <th>1</th>\n",
       "      <td>Shanghai is also really exciting (precisely --...</td>\n",
       "      <td>1</td>\n",
       "    </tr>\n",
       "    <tr>\n",
       "      <th>2</th>\n",
       "      <td>submit the report ASAP!</td>\n",
       "      <td>0</td>\n",
       "    </tr>\n",
       "    <tr>\n",
       "      <th>3</th>\n",
       "      <td>happy bday!</td>\n",
       "      <td>1</td>\n",
       "    </tr>\n",
       "    <tr>\n",
       "      <th>4</th>\n",
       "      <td>The OGs - I like it!!</td>\n",
       "      <td>1</td>\n",
       "    </tr>\n",
       "    <tr>\n",
       "      <th>5</th>\n",
       "      <td>that`s great!! weee!! visitors!</td>\n",
       "      <td>1</td>\n",
       "    </tr>\n",
       "  </tbody>\n",
       "</table>\n",
       "</div>"
      ],
      "text/plain": [
       "                                               tweet  class\n",
       "1  Shanghai is also really exciting (precisely --...      1\n",
       "2                            submit the report ASAP!      0\n",
       "3                                        happy bday!      1\n",
       "4                              The OGs - I like it!!      1\n",
       "5                    that`s great!! weee!! visitors!      1"
      ]
     },
     "execution_count": 19,
     "metadata": {},
     "output_type": "execute_result"
    }
   ],
   "source": [
    "df.head()"
   ]
  },
  {
   "cell_type": "code",
   "execution_count": 20,
   "id": "8ce5a098",
   "metadata": {
    "execution": {
     "iopub.execute_input": "2025-03-01T20:17:03.395448Z",
     "iopub.status.busy": "2025-03-01T20:17:03.394823Z",
     "iopub.status.idle": "2025-03-01T20:17:03.539043Z",
     "shell.execute_reply": "2025-03-01T20:17:03.538379Z"
    },
    "papermill": {
     "duration": 0.1575,
     "end_time": "2025-03-01T20:17:03.541240",
     "exception": false,
     "start_time": "2025-03-01T20:17:03.383740",
     "status": "completed"
    },
    "tags": []
   },
   "outputs": [],
   "source": [
    "import re\n",
    "from bs4 import BeautifulSoup\n",
    "\n",
    "def text_cleaning(text):\n",
    "    text = str(text)\n",
    "    soup = BeautifulSoup(text, \"html.parser\")    ###removing html tages\n",
    "    text = re.sub(r'\\[[^]]*\\]', '', soup.get_text())      ##removing text within square brackets\n",
    "    pattern = r\"[^a-zA-Z0-9\\s,']\"                  # Removing unwanted characters\n",
    "    text = re.sub(pattern, '', text)\n",
    "    url_pattern = r'http\\S+|www\\S+'            ###removing urls\n",
    "    text = re.sub(url_pattern, '', text)\n",
    "    return text"
   ]
  },
  {
   "cell_type": "code",
   "execution_count": 21,
   "id": "422295dd",
   "metadata": {
    "execution": {
     "iopub.execute_input": "2025-03-01T20:17:03.564162Z",
     "iopub.status.busy": "2025-03-01T20:17:03.563772Z",
     "iopub.status.idle": "2025-03-01T20:17:03.691916Z",
     "shell.execute_reply": "2025-03-01T20:17:03.691072Z"
    },
    "papermill": {
     "duration": 0.141744,
     "end_time": "2025-03-01T20:17:03.693791",
     "exception": false,
     "start_time": "2025-03-01T20:17:03.552047",
     "status": "completed"
    },
    "tags": []
   },
   "outputs": [],
   "source": [
    "df['tweet'] = df['tweet'].apply(text_cleaning).tolist()"
   ]
  },
  {
   "cell_type": "code",
   "execution_count": 22,
   "id": "76ff15f0",
   "metadata": {
    "execution": {
     "iopub.execute_input": "2025-03-01T20:17:03.715306Z",
     "iopub.status.busy": "2025-03-01T20:17:03.714861Z",
     "iopub.status.idle": "2025-03-01T20:17:03.723552Z",
     "shell.execute_reply": "2025-03-01T20:17:03.722560Z"
    },
    "papermill": {
     "duration": 0.021277,
     "end_time": "2025-03-01T20:17:03.725432",
     "exception": false,
     "start_time": "2025-03-01T20:17:03.704155",
     "status": "completed"
    },
    "tags": []
   },
   "outputs": [
    {
     "data": {
      "text/html": [
       "<div>\n",
       "<style scoped>\n",
       "    .dataframe tbody tr th:only-of-type {\n",
       "        vertical-align: middle;\n",
       "    }\n",
       "\n",
       "    .dataframe tbody tr th {\n",
       "        vertical-align: top;\n",
       "    }\n",
       "\n",
       "    .dataframe thead th {\n",
       "        text-align: right;\n",
       "    }\n",
       "</style>\n",
       "<table border=\"1\" class=\"dataframe\">\n",
       "  <thead>\n",
       "    <tr style=\"text-align: right;\">\n",
       "      <th></th>\n",
       "      <th>tweet</th>\n",
       "      <th>class</th>\n",
       "    </tr>\n",
       "  </thead>\n",
       "  <tbody>\n",
       "    <tr>\n",
       "      <th>1</th>\n",
       "      <td>Shanghai is also really exciting precisely  sk...</td>\n",
       "      <td>1</td>\n",
       "    </tr>\n",
       "    <tr>\n",
       "      <th>2</th>\n",
       "      <td>submit the report ASAP</td>\n",
       "      <td>0</td>\n",
       "    </tr>\n",
       "    <tr>\n",
       "      <th>3</th>\n",
       "      <td>happy bday</td>\n",
       "      <td>1</td>\n",
       "    </tr>\n",
       "    <tr>\n",
       "      <th>4</th>\n",
       "      <td>The OGs  I like it</td>\n",
       "      <td>1</td>\n",
       "    </tr>\n",
       "    <tr>\n",
       "      <th>5</th>\n",
       "      <td>thats great weee visitors</td>\n",
       "      <td>1</td>\n",
       "    </tr>\n",
       "    <tr>\n",
       "      <th>6</th>\n",
       "      <td>I THINK EVERYONE HATES ME ON HERE lol</td>\n",
       "      <td>0</td>\n",
       "    </tr>\n",
       "    <tr>\n",
       "      <th>7</th>\n",
       "      <td>soooooo wish i could, but im in school and mys...</td>\n",
       "      <td>0</td>\n",
       "    </tr>\n",
       "    <tr>\n",
       "      <th>10</th>\n",
       "      <td>My bike was put on holdshould have known that ...</td>\n",
       "      <td>0</td>\n",
       "    </tr>\n",
       "    <tr>\n",
       "      <th>13</th>\n",
       "      <td>Im in VA for the weekend, my youngest son turn...</td>\n",
       "      <td>0</td>\n",
       "    </tr>\n",
       "    <tr>\n",
       "      <th>14</th>\n",
       "      <td>Its coming out the socket I feel like my phone...</td>\n",
       "      <td>0</td>\n",
       "    </tr>\n",
       "  </tbody>\n",
       "</table>\n",
       "</div>"
      ],
      "text/plain": [
       "                                                tweet  class\n",
       "1   Shanghai is also really exciting precisely  sk...      1\n",
       "2                              submit the report ASAP      0\n",
       "3                                          happy bday      1\n",
       "4                                  The OGs  I like it      1\n",
       "5                           thats great weee visitors      1\n",
       "6               I THINK EVERYONE HATES ME ON HERE lol      0\n",
       "7   soooooo wish i could, but im in school and mys...      0\n",
       "10  My bike was put on holdshould have known that ...      0\n",
       "13  Im in VA for the weekend, my youngest son turn...      0\n",
       "14  Its coming out the socket I feel like my phone...      0"
      ]
     },
     "execution_count": 22,
     "metadata": {},
     "output_type": "execute_result"
    }
   ],
   "source": [
    "df.head(10)"
   ]
  },
  {
   "cell_type": "code",
   "execution_count": 23,
   "id": "3e3b50b2",
   "metadata": {
    "execution": {
     "iopub.execute_input": "2025-03-01T20:17:03.746955Z",
     "iopub.status.busy": "2025-03-01T20:17:03.746719Z",
     "iopub.status.idle": "2025-03-01T20:17:03.752981Z",
     "shell.execute_reply": "2025-03-01T20:17:03.752208Z"
    },
    "papermill": {
     "duration": 0.018723,
     "end_time": "2025-03-01T20:17:03.754609",
     "exception": false,
     "start_time": "2025-03-01T20:17:03.735886",
     "status": "completed"
    },
    "tags": []
   },
   "outputs": [],
   "source": [
    "lens=[len(i.split()) for i in df['tweet']]"
   ]
  },
  {
   "cell_type": "code",
   "execution_count": 24,
   "id": "083cddb8",
   "metadata": {
    "execution": {
     "iopub.execute_input": "2025-03-01T20:17:03.776002Z",
     "iopub.status.busy": "2025-03-01T20:17:03.775793Z",
     "iopub.status.idle": "2025-03-01T20:17:03.962705Z",
     "shell.execute_reply": "2025-03-01T20:17:03.961824Z"
    },
    "papermill": {
     "duration": 0.199529,
     "end_time": "2025-03-01T20:17:03.964334",
     "exception": false,
     "start_time": "2025-03-01T20:17:03.764805",
     "status": "completed"
    },
    "tags": []
   },
   "outputs": [
    {
     "data": {
      "text/plain": [
       "(array([135., 493., 641., 585., 429., 438., 237., 174.,  74.,   9.]),\n",
       " array([ 0. ,  3.2,  6.4,  9.6, 12.8, 16. , 19.2, 22.4, 25.6, 28.8, 32. ]),\n",
       " <BarContainer object of 10 artists>)"
      ]
     },
     "execution_count": 24,
     "metadata": {},
     "output_type": "execute_result"
    },
    {
     "data": {
      "image/png": "[encoded data removed]",
      "text/plain": [
       "<Figure size 640x480 with 1 Axes>"
      ]
     },
     "metadata": {},
     "output_type": "display_data"
    }
   ],
   "source": [
    "import matplotlib.pyplot as plt\n",
    "plt.hist(lens)"
   ]
  },
  {
   "cell_type": "code",
   "execution_count": 25,
   "id": "c126af5d",
   "metadata": {
    "execution": {
     "iopub.execute_input": "2025-03-01T20:17:03.986892Z",
     "iopub.status.busy": "2025-03-01T20:17:03.986668Z",
     "iopub.status.idle": "2025-03-01T20:17:04.902490Z",
     "shell.execute_reply": "2025-03-01T20:17:04.901745Z"
    },
    "papermill": {
     "duration": 0.92947,
     "end_time": "2025-03-01T20:17:04.904647",
     "exception": false,
     "start_time": "2025-03-01T20:17:03.975177",
     "status": "completed"
    },
    "tags": []
   },
   "outputs": [],
   "source": [
    "import torch\n",
    "import torch.nn as nn\n",
    "\n",
    "import transformers\n",
    "from transformers import AutoModel, BertTokenizerFast, AutoModelForSequenceClassification, AutoTokenizer\n",
    "from transformers import AutoModel, AdamW, get_linear_schedule_with_warmup"
   ]
  },
  {
   "cell_type": "code",
   "execution_count": 26,
   "id": "030b199a",
   "metadata": {
    "execution": {
     "iopub.execute_input": "2025-03-01T20:17:04.927895Z",
     "iopub.status.busy": "2025-03-01T20:17:04.927626Z",
     "iopub.status.idle": "2025-03-01T20:17:04.937481Z",
     "shell.execute_reply": "2025-03-01T20:17:04.936909Z"
    },
    "papermill": {
     "duration": 0.022926,
     "end_time": "2025-03-01T20:17:04.939156",
     "exception": false,
     "start_time": "2025-03-01T20:17:04.916230",
     "status": "completed"
    },
    "tags": []
   },
   "outputs": [],
   "source": [
    "# split into train, validation and test sets in the ration 70 : 15 : 15\n",
    "from sklearn.model_selection import train_test_split\n",
    "\n",
    "train_text, temp_text, train_labels, temp_labels = train_test_split(df['tweet'], df['class'], \n",
    "                                                                    random_state=2021, \n",
    "                                                                    test_size=0.2, \n",
    "                                                                    stratify=df['class'])\n",
    "\n",
    "\n",
    "val_text, test_text, val_labels, test_labels = train_test_split(temp_text, temp_labels, \n",
    "                                                                random_state=2021, \n",
    "                                                                test_size=0.5, \n",
    "                                                                stratify=temp_labels)"
   ]
  },
  {
   "cell_type": "code",
   "execution_count": 27,
   "id": "62d46268",
   "metadata": {
    "execution": {
     "iopub.execute_input": "2025-03-01T20:17:04.960866Z",
     "iopub.status.busy": "2025-03-01T20:17:04.960623Z",
     "iopub.status.idle": "2025-03-01T20:17:08.331382Z",
     "shell.execute_reply": "2025-03-01T20:17:08.330565Z"
    },
    "papermill": {
     "duration": 3.383809,
     "end_time": "2025-03-01T20:17:08.333406",
     "exception": false,
     "start_time": "2025-03-01T20:17:04.949597",
     "status": "completed"
    },
    "tags": []
   },
   "outputs": [
    {
     "data": {
      "application/vnd.jupyter.widget-view+json": {
       "model_id": "8a04651b18f043698b5c3d8bca35bc0c",
       "version_major": 2,
       "version_minor": 0
      },
      "text/plain": [
       "config.json:   0%|          | 0.00/570 [00:00<?, ?B/s]"
      ]
     },
     "metadata": {},
     "output_type": "display_data"
    },
    {
     "data": {
      "application/vnd.jupyter.widget-view+json": {
       "model_id": "1ce555147e6a4eb0b98b6900264d411d",
       "version_major": 2,
       "version_minor": 0
      },
      "text/plain": [
       "model.safetensors:   0%|          | 0.00/440M [00:00<?, ?B/s]"
      ]
     },
     "metadata": {},
     "output_type": "display_data"
    }
   ],
   "source": [
    "bert = AutoModel.from_pretrained('bert-base-uncased')"
   ]
  },
  {
   "cell_type": "code",
   "execution_count": 28,
   "id": "65554836",
   "metadata": {
    "execution": {
     "iopub.execute_input": "2025-03-01T20:17:08.357765Z",
     "iopub.status.busy": "2025-03-01T20:17:08.357055Z",
     "iopub.status.idle": "2025-03-01T20:17:09.169905Z",
     "shell.execute_reply": "2025-03-01T20:17:09.169278Z"
    },
    "papermill": {
     "duration": 0.826939,
     "end_time": "2025-03-01T20:17:09.171723",
     "exception": false,
     "start_time": "2025-03-01T20:17:08.344784",
     "status": "completed"
    },
    "tags": []
   },
   "outputs": [
    {
     "data": {
      "application/vnd.jupyter.widget-view+json": {
       "model_id": "451cdff79a494f6cafe9daa6e504d3c5",
       "version_major": 2,
       "version_minor": 0
      },
      "text/plain": [
       "tokenizer_config.json:   0%|          | 0.00/48.0 [00:00<?, ?B/s]"
      ]
     },
     "metadata": {},
     "output_type": "display_data"
    },
    {
     "data": {
      "application/vnd.jupyter.widget-view+json": {
       "model_id": "57ace39356ef48989decceeccd2515c7",
       "version_major": 2,
       "version_minor": 0
      },
      "text/plain": [
       "vocab.txt:   0%|          | 0.00/232k [00:00<?, ?B/s]"
      ]
     },
     "metadata": {},
     "output_type": "display_data"
    },
    {
     "data": {
      "application/vnd.jupyter.widget-view+json": {
       "model_id": "a358100f9fd549858f513893ea1184f2",
       "version_major": 2,
       "version_minor": 0
      },
      "text/plain": [
       "tokenizer.json:   0%|          | 0.00/466k [00:00<?, ?B/s]"
      ]
     },
     "metadata": {},
     "output_type": "display_data"
    }
   ],
   "source": [
    "tokenizer = BertTokenizerFast.from_pretrained('bert-base-uncased')"
   ]
  },
  {
   "cell_type": "code",
   "execution_count": 29,
   "id": "b6d13f1b",
   "metadata": {
    "execution": {
     "iopub.execute_input": "2025-03-01T20:17:09.196055Z",
     "iopub.status.busy": "2025-03-01T20:17:09.195795Z",
     "iopub.status.idle": "2025-03-01T20:17:09.351891Z",
     "shell.execute_reply": "2025-03-01T20:17:09.350863Z"
    },
    "papermill": {
     "duration": 0.170491,
     "end_time": "2025-03-01T20:17:09.353605",
     "exception": false,
     "start_time": "2025-03-01T20:17:09.183114",
     "status": "completed"
    },
    "tags": []
   },
   "outputs": [
    {
     "data": {
      "text/plain": [
       "(array([192., 469., 502., 424., 315., 268., 194., 145.,  55.,   8.]),\n",
       " array([ 1. ,  4.1,  7.2, 10.3, 13.4, 16.5, 19.6, 22.7, 25.8, 28.9, 32. ]),\n",
       " <BarContainer object of 10 artists>)"
      ]
     },
     "execution_count": 29,
     "metadata": {},
     "output_type": "execute_result"
    },
    {
     "data": {
      "image/png": "[encoded data removed]",
      "text/plain": [
       "<Figure size 640x480 with 1 Axes>"
      ]
     },
     "metadata": {},
     "output_type": "display_data"
    }
   ],
   "source": [
    "train_lens=[len(i.split()) for i in train_text]\n",
    "plt.hist(train_lens)"
   ]
  },
  {
   "cell_type": "code",
   "execution_count": 30,
   "id": "062c3a1f",
   "metadata": {
    "execution": {
     "iopub.execute_input": "2025-03-01T20:17:09.378420Z",
     "iopub.status.busy": "2025-03-01T20:17:09.378166Z",
     "iopub.status.idle": "2025-03-01T20:17:09.390612Z",
     "shell.execute_reply": "2025-03-01T20:17:09.389730Z"
    },
    "papermill": {
     "duration": 0.027121,
     "end_time": "2025-03-01T20:17:09.392384",
     "exception": false,
     "start_time": "2025-03-01T20:17:09.365263",
     "status": "completed"
    },
    "tags": []
   },
   "outputs": [
    {
     "name": "stdout",
     "output_type": "stream",
     "text": [
      "count    3215.000000\n",
      "mean       12.223328\n",
      "std         6.223879\n",
      "min         0.000000\n",
      "25%         7.000000\n",
      "50%        11.000000\n",
      "75%        17.000000\n",
      "max        32.000000\n",
      "Name: tweet, dtype: float64\n"
     ]
    }
   ],
   "source": [
    "import pandas as pd\n",
    "\n",
    "sequence_lengths = df['tweet'].apply(lambda x: len(x.split()))\n",
    "print(sequence_lengths.describe())\n"
   ]
  },
  {
   "cell_type": "code",
   "execution_count": 31,
   "id": "c1d1fa47",
   "metadata": {
    "execution": {
     "iopub.execute_input": "2025-03-01T20:17:09.416440Z",
     "iopub.status.busy": "2025-03-01T20:17:09.416231Z",
     "iopub.status.idle": "2025-03-01T20:17:09.419815Z",
     "shell.execute_reply": "2025-03-01T20:17:09.419234Z"
    },
    "papermill": {
     "duration": 0.017453,
     "end_time": "2025-03-01T20:17:09.421390",
     "exception": false,
     "start_time": "2025-03-01T20:17:09.403937",
     "status": "completed"
    },
    "tags": []
   },
   "outputs": [],
   "source": [
    "pad_len = 128"
   ]
  },
  {
   "cell_type": "markdown",
   "id": "b1ce8397",
   "metadata": {
    "papermill": {
     "duration": 0.011,
     "end_time": "2025-03-01T20:17:09.443642",
     "exception": false,
     "start_time": "2025-03-01T20:17:09.432642",
     "status": "completed"
    },
    "tags": []
   },
   "source": [
    "## ENCODING"
   ]
  },
  {
   "cell_type": "code",
   "execution_count": 32,
   "id": "b21c5338",
   "metadata": {
    "execution": {
     "iopub.execute_input": "2025-03-01T20:17:09.466762Z",
     "iopub.status.busy": "2025-03-01T20:17:09.466507Z",
     "iopub.status.idle": "2025-03-01T20:17:09.610647Z",
     "shell.execute_reply": "2025-03-01T20:17:09.609956Z"
    },
    "papermill": {
     "duration": 0.157911,
     "end_time": "2025-03-01T20:17:09.612580",
     "exception": false,
     "start_time": "2025-03-01T20:17:09.454669",
     "status": "completed"
    },
    "tags": []
   },
   "outputs": [],
   "source": [
    "# tokenizing and encoding sequences \n",
    "tokens_train = tokenizer.batch_encode_plus(\n",
    "    train_text.tolist(),\n",
    "    max_length = pad_len,\n",
    "    pad_to_max_length=True,\n",
    "    add_special_tokens=True,\n",
    "    truncation=True,\n",
    "    return_token_type_ids=True\n",
    ")\n",
    "\n",
    "tokens_val = tokenizer.batch_encode_plus(\n",
    "    val_text.tolist(),\n",
    "    max_length = pad_len,\n",
    "    pad_to_max_length=True,\n",
    "    add_special_tokens=True,\n",
    "    truncation=True,\n",
    "    return_token_type_ids=True\n",
    ")\n",
    "\n",
    "tokens_test = tokenizer.batch_encode_plus(\n",
    "    test_text.tolist(),\n",
    "    max_length = pad_len,\n",
    "    pad_to_max_length=True,\n",
    "    add_special_tokens=True,\n",
    "    truncation=True,\n",
    "    return_token_type_ids=True\n",
    ")"
   ]
  },
  {
   "cell_type": "code",
   "execution_count": 33,
   "id": "90d63e0e",
   "metadata": {
    "execution": {
     "iopub.execute_input": "2025-03-01T20:17:09.636858Z",
     "iopub.status.busy": "2025-03-01T20:17:09.636610Z",
     "iopub.status.idle": "2025-03-01T20:17:09.853268Z",
     "shell.execute_reply": "2025-03-01T20:17:09.852587Z"
    },
    "papermill": {
     "duration": 0.230412,
     "end_time": "2025-03-01T20:17:09.854913",
     "exception": false,
     "start_time": "2025-03-01T20:17:09.624501",
     "status": "completed"
    },
    "tags": []
   },
   "outputs": [],
   "source": [
    "train_seq = torch.tensor(tokens_train['input_ids'])\n",
    "train_mask = torch.tensor(tokens_train['attention_mask'])\n",
    "train_token_type_ids = torch.tensor(tokens_train[\"token_type_ids\"])\n",
    "train_y = torch.tensor(train_labels.tolist())\n",
    "\n",
    "val_seq = torch.tensor(tokens_val['input_ids'])\n",
    "val_mask = torch.tensor(tokens_val['attention_mask'])\n",
    "val_token_type_ids = torch.tensor(tokens_val[\"token_type_ids\"])\n",
    "val_y = torch.tensor(val_labels.tolist())\n",
    "\n",
    "test_seq = torch.tensor(tokens_test['input_ids'])\n",
    "test_mask = torch.tensor(tokens_test['attention_mask'])\n",
    "test_token_type_ids = torch.tensor(tokens_test[\"token_type_ids\"])\n",
    "test_y = torch.tensor(test_labels.tolist())"
   ]
  },
  {
   "cell_type": "code",
   "execution_count": 34,
   "id": "d50d6af3",
   "metadata": {
    "execution": {
     "iopub.execute_input": "2025-03-01T20:17:09.880272Z",
     "iopub.status.busy": "2025-03-01T20:17:09.879684Z",
     "iopub.status.idle": "2025-03-01T20:17:09.884863Z",
     "shell.execute_reply": "2025-03-01T20:17:09.883999Z"
    },
    "papermill": {
     "duration": 0.019687,
     "end_time": "2025-03-01T20:17:09.886696",
     "exception": false,
     "start_time": "2025-03-01T20:17:09.867009",
     "status": "completed"
    },
    "tags": []
   },
   "outputs": [],
   "source": [
    "from torch.utils.data import TensorDataset, DataLoader, RandomSampler, SequentialSampler\n",
    "batch_size = 64  ##batch size can be adjusted or modified\n",
    "train_data = TensorDataset(train_seq, train_mask, train_token_type_ids, train_y)\n",
    "train_sampler = RandomSampler(train_data)\n",
    "train_dataloader = DataLoader(train_data, sampler=train_sampler, batch_size=batch_size)\n",
    "val_data = TensorDataset(val_seq, val_mask, val_token_type_ids, val_y)\n",
    "val_sampler = SequentialSampler(val_data)\n",
    "val_dataloader = DataLoader(val_data, sampler = val_sampler, batch_size=batch_size)"
   ]
  },
  {
   "cell_type": "code",
   "execution_count": 35,
   "id": "49a996bd",
   "metadata": {
    "execution": {
     "iopub.execute_input": "2025-03-01T20:17:09.912238Z",
     "iopub.status.busy": "2025-03-01T20:17:09.911598Z",
     "iopub.status.idle": "2025-03-01T20:17:09.915053Z",
     "shell.execute_reply": "2025-03-01T20:17:09.914375Z"
    },
    "papermill": {
     "duration": 0.017496,
     "end_time": "2025-03-01T20:17:09.916621",
     "exception": false,
     "start_time": "2025-03-01T20:17:09.899125",
     "status": "completed"
    },
    "tags": []
   },
   "outputs": [],
   "source": [
    "# for param in bert.parameters():\n",
    "#     param.requires_grad = False"
   ]
  },
  {
   "cell_type": "code",
   "execution_count": 36,
   "id": "6281dd09",
   "metadata": {
    "execution": {
     "iopub.execute_input": "2025-03-01T20:17:09.941334Z",
     "iopub.status.busy": "2025-03-01T20:17:09.941110Z",
     "iopub.status.idle": "2025-03-01T20:17:09.946044Z",
     "shell.execute_reply": "2025-03-01T20:17:09.945348Z"
    },
    "papermill": {
     "duration": 0.018984,
     "end_time": "2025-03-01T20:17:09.947644",
     "exception": false,
     "start_time": "2025-03-01T20:17:09.928660",
     "status": "completed"
    },
    "tags": []
   },
   "outputs": [],
   "source": [
    "for name, param in bert.named_parameters():\n",
    "    if \"layer.11\" in name or \"layer.10\" in name:  # Fine-tune last two layers\n",
    "        param.requires_grad = True\n",
    "    else:\n",
    "        param.requires_grad = False"
   ]
  },
  {
   "cell_type": "markdown",
   "id": "ca3af298",
   "metadata": {
    "papermill": {
     "duration": 0.011049,
     "end_time": "2025-03-01T20:17:09.970103",
     "exception": false,
     "start_time": "2025-03-01T20:17:09.959054",
     "status": "completed"
    },
    "tags": []
   },
   "source": [
    "# MODEL"
   ]
  },
  {
   "cell_type": "code",
   "execution_count": 37,
   "id": "1541ba42",
   "metadata": {
    "execution": {
     "iopub.execute_input": "2025-03-01T20:17:09.993336Z",
     "iopub.status.busy": "2025-03-01T20:17:09.993110Z",
     "iopub.status.idle": "2025-03-01T20:17:10.000293Z",
     "shell.execute_reply": "2025-03-01T20:17:09.999578Z"
    },
    "papermill": {
     "duration": 0.020563,
     "end_time": "2025-03-01T20:17:10.001809",
     "exception": false,
     "start_time": "2025-03-01T20:17:09.981246",
     "status": "completed"
    },
    "tags": []
   },
   "outputs": [],
   "source": [
    "import torch.nn as nn\n",
    "\n",
    "##model building\n",
    "class SentimentClassifier(nn.Module):\n",
    "     \n",
    "    def __init__(self, n_classes):\n",
    "        super(SentimentClassifier, self).__init__()\n",
    "        self.bert = BertModel.from_pretrained(MODEL_NAME)\n",
    "        self.drop = nn.Dropout(p=0.3)\n",
    "        self.out = nn.Linear(self.bert.config.hidden_size, n_classes)\n",
    "    \n",
    "    # Forward propagaion\n",
    "    def forward(self, input_ids, attention_mask, token_type_ids):\n",
    "        _, pooled_output = self.bert(\n",
    "          input_ids=input_ids,\n",
    "          attention_mask=attention_mask,\n",
    "            token_type_ids=token_type_ids\n",
    "        ) \n",
    "        output = self.drop(pooled_output)  ##drop out layer\n",
    "        return self.out(output)\n",
    "\n",
    "    \n",
    "class BERT_architecture(nn.Module):\n",
    "\n",
    "    def __init__(self, bert):\n",
    "        super(BERT_architecture, self).__init__()\n",
    "        self.bert = bert\n",
    "        \n",
    "        self.dropout = nn.Dropout(0.3)  # Increased dropout for regularization\n",
    "        self.layer_norm = nn.LayerNorm(768)  # Layer normalization\n",
    "        \n",
    "        self.fc1 = nn.Linear(768, 256)  # Dense layer\n",
    "        self.fc2 = nn.Linear(256, 2)  # Output layer with 2 classes\n",
    "        \n",
    "        self.relu = nn.ReLU()\n",
    "        self.softmax = nn.LogSoftmax(dim=1)\n",
    "\n",
    "    def forward(self, sent_id, mask, token_type_ids):\n",
    "        _, cls_hs = self.bert(sent_id, attention_mask=mask, token_type_ids=token_type_ids, return_dict=False)\n",
    "        x = self.layer_norm(cls_hs)\n",
    "        x = self.fc1(x)\n",
    "        x = self.relu(x)\n",
    "        x = self.dropout(x)\n",
    "        x = self.fc2(x)\n",
    "        x = self.softmax(x)\n",
    "        return x"
   ]
  },
  {
   "cell_type": "code",
   "execution_count": 38,
   "id": "83a24147",
   "metadata": {
    "execution": {
     "iopub.execute_input": "2025-03-01T20:17:10.024954Z",
     "iopub.status.busy": "2025-03-01T20:17:10.024461Z",
     "iopub.status.idle": "2025-03-01T20:17:10.034188Z",
     "shell.execute_reply": "2025-03-01T20:17:10.033315Z"
    },
    "papermill": {
     "duration": 0.022933,
     "end_time": "2025-03-01T20:17:10.035795",
     "exception": false,
     "start_time": "2025-03-01T20:17:10.012862",
     "status": "completed"
    },
    "tags": []
   },
   "outputs": [],
   "source": [
    "model = BERT_architecture(bert)"
   ]
  },
  {
   "cell_type": "code",
   "execution_count": 39,
   "id": "359ac9e2",
   "metadata": {
    "execution": {
     "iopub.execute_input": "2025-03-01T20:17:10.058910Z",
     "iopub.status.busy": "2025-03-01T20:17:10.058683Z",
     "iopub.status.idle": "2025-03-01T20:17:10.378307Z",
     "shell.execute_reply": "2025-03-01T20:17:10.377251Z"
    },
    "papermill": {
     "duration": 0.33326,
     "end_time": "2025-03-01T20:17:10.380183",
     "exception": false,
     "start_time": "2025-03-01T20:17:10.046923",
     "status": "completed"
    },
    "tags": []
   },
   "outputs": [
    {
     "data": {
      "text/plain": [
       "BERT_architecture(\n",
       "  (bert): BertModel(\n",
       "    (embeddings): BertEmbeddings(\n",
       "      (word_embeddings): Embedding(30522, 768, padding_idx=0)\n",
       "      (position_embeddings): Embedding(512, 768)\n",
       "      (token_type_embeddings): Embedding(2, 768)\n",
       "      (LayerNorm): LayerNorm((768,), eps=1e-12, elementwise_affine=True)\n",
       "      (dropout): Dropout(p=0.1, inplace=False)\n",
       "    )\n",
       "    (encoder): BertEncoder(\n",
       "      (layer): ModuleList(\n",
       "        (0-11): 12 x BertLayer(\n",
       "          (attention): BertAttention(\n",
       "            (self): BertSdpaSelfAttention(\n",
       "              (query): Linear(in_features=768, out_features=768, bias=True)\n",
       "              (key): Linear(in_features=768, out_features=768, bias=True)\n",
       "              (value): Linear(in_features=768, out_features=768, bias=True)\n",
       "              (dropout): Dropout(p=0.1, inplace=False)\n",
       "            )\n",
       "            (output): BertSelfOutput(\n",
       "              (dense): Linear(in_features=768, out_features=768, bias=True)\n",
       "              (LayerNorm): LayerNorm((768,), eps=1e-12, elementwise_affine=True)\n",
       "              (dropout): Dropout(p=0.1, inplace=False)\n",
       "            )\n",
       "          )\n",
       "          (intermediate): BertIntermediate(\n",
       "            (dense): Linear(in_features=768, out_features=3072, bias=True)\n",
       "            (intermediate_act_fn): GELUActivation()\n",
       "          )\n",
       "          (output): BertOutput(\n",
       "            (dense): Linear(in_features=3072, out_features=768, bias=True)\n",
       "            (LayerNorm): LayerNorm((768,), eps=1e-12, elementwise_affine=True)\n",
       "            (dropout): Dropout(p=0.1, inplace=False)\n",
       "          )\n",
       "        )\n",
       "      )\n",
       "    )\n",
       "    (pooler): BertPooler(\n",
       "      (dense): Linear(in_features=768, out_features=768, bias=True)\n",
       "      (activation): Tanh()\n",
       "    )\n",
       "  )\n",
       "  (dropout): Dropout(p=0.3, inplace=False)\n",
       "  (layer_norm): LayerNorm((768,), eps=1e-05, elementwise_affine=True)\n",
       "  (fc1): Linear(in_features=768, out_features=256, bias=True)\n",
       "  (fc2): Linear(in_features=256, out_features=2, bias=True)\n",
       "  (relu): ReLU()\n",
       "  (softmax): LogSoftmax(dim=1)\n",
       ")"
      ]
     },
     "execution_count": 39,
     "metadata": {},
     "output_type": "execute_result"
    }
   ],
   "source": [
    "test_seq = test_seq.to(device)\n",
    "test_mask = test_mask.to(device)\n",
    "test_token_type_ids = test_token_type_ids.to(device)\n",
    "model.to(device)"
   ]
  },
  {
   "cell_type": "code",
   "execution_count": 40,
   "id": "4b687051",
   "metadata": {
    "execution": {
     "iopub.execute_input": "2025-03-01T20:17:10.406746Z",
     "iopub.status.busy": "2025-03-01T20:17:10.406434Z",
     "iopub.status.idle": "2025-03-01T20:17:10.873722Z",
     "shell.execute_reply": "2025-03-01T20:17:10.873067Z"
    },
    "papermill": {
     "duration": 0.481392,
     "end_time": "2025-03-01T20:17:10.875734",
     "exception": false,
     "start_time": "2025-03-01T20:17:10.394342",
     "status": "completed"
    },
    "tags": []
   },
   "outputs": [],
   "source": [
    "from transformers import AdamW\n",
    "# optimizer = AdamW(model.parameters(),lr = 1e-3)  ## learning rate needs to be adjusted.\n",
    "optimizer = AdamW(model.parameters(), lr=1e-5, eps=1e-8, weight_decay=0.01)"
   ]
  },
  {
   "cell_type": "code",
   "execution_count": 41,
   "id": "d3107532",
   "metadata": {
    "execution": {
     "iopub.execute_input": "2025-03-01T20:17:10.900239Z",
     "iopub.status.busy": "2025-03-01T20:17:10.899859Z",
     "iopub.status.idle": "2025-03-01T20:17:10.907397Z",
     "shell.execute_reply": "2025-03-01T20:17:10.906498Z"
    },
    "papermill": {
     "duration": 0.02135,
     "end_time": "2025-03-01T20:17:10.909090",
     "exception": false,
     "start_time": "2025-03-01T20:17:10.887740",
     "status": "completed"
    },
    "tags": []
   },
   "outputs": [
    {
     "name": "stdout",
     "output_type": "stream",
     "text": [
      "Class weights are [1.02225755 0.97869102] for [0 1]\n"
     ]
    }
   ],
   "source": [
    "from sklearn.utils.class_weight import compute_class_weight\n",
    "import torch\n",
    "import torch.nn as nn\n",
    "\n",
    "# Compute the class weights for three classes\n",
    "class_weights = compute_class_weight(class_weight=\"balanced\",\n",
    "                                     classes=np.unique(train_labels),\n",
    "                                     y=train_labels)\n",
    "print(\"Class weights are {} for {}\".format(class_weights, np.unique(train_labels)))"
   ]
  },
  {
   "cell_type": "code",
   "execution_count": 42,
   "id": "eed6fad0",
   "metadata": {
    "execution": {
     "iopub.execute_input": "2025-03-01T20:17:10.933026Z",
     "iopub.status.busy": "2025-03-01T20:17:10.932791Z",
     "iopub.status.idle": "2025-03-01T20:17:10.939708Z",
     "shell.execute_reply": "2025-03-01T20:17:10.938965Z"
    },
    "papermill": {
     "duration": 0.020339,
     "end_time": "2025-03-01T20:17:10.941237",
     "exception": false,
     "start_time": "2025-03-01T20:17:10.920898",
     "status": "completed"
    },
    "tags": []
   },
   "outputs": [
    {
     "data": {
      "text/plain": [
       "class\n",
       "1    1314\n",
       "0    1258\n",
       "Name: count, dtype: int64"
      ]
     },
     "execution_count": 42,
     "metadata": {},
     "output_type": "execute_result"
    }
   ],
   "source": [
    "pd.value_counts(train_labels)"
   ]
  },
  {
   "cell_type": "code",
   "execution_count": 43,
   "id": "fe2a7c79",
   "metadata": {
    "execution": {
     "iopub.execute_input": "2025-03-01T20:17:10.966045Z",
     "iopub.status.busy": "2025-03-01T20:17:10.965593Z",
     "iopub.status.idle": "2025-03-01T20:17:10.969011Z",
     "shell.execute_reply": "2025-03-01T20:17:10.968228Z"
    },
    "papermill": {
     "duration": 0.017356,
     "end_time": "2025-03-01T20:17:10.970561",
     "exception": false,
     "start_time": "2025-03-01T20:17:10.953205",
     "status": "completed"
    },
    "tags": []
   },
   "outputs": [],
   "source": [
    "# weights = torch.tensor(class_weights, dtype=torch.float)\n",
    "\n",
    "# weights = weights.to(device)\n",
    "# cross_entropy = nn.CrossEntropyLoss()\n",
    "\n",
    "epochs = 12 ##increase the no of epochs for better accuracy \n"
   ]
  },
  {
   "cell_type": "markdown",
   "id": "8b341a01",
   "metadata": {
    "papermill": {
     "duration": 0.011391,
     "end_time": "2025-03-01T20:17:10.993743",
     "exception": false,
     "start_time": "2025-03-01T20:17:10.982352",
     "status": "completed"
    },
    "tags": []
   },
   "source": [
    "## HYPERPARAMS SETUP"
   ]
  },
  {
   "cell_type": "code",
   "execution_count": 44,
   "id": "c1963b46",
   "metadata": {
    "execution": {
     "iopub.execute_input": "2025-03-01T20:17:11.017705Z",
     "iopub.status.busy": "2025-03-01T20:17:11.017180Z",
     "iopub.status.idle": "2025-03-01T20:17:11.023942Z",
     "shell.execute_reply": "2025-03-01T20:17:11.023375Z"
    },
    "papermill": {
     "duration": 0.020299,
     "end_time": "2025-03-01T20:17:11.025426",
     "exception": false,
     "start_time": "2025-03-01T20:17:11.005127",
     "status": "completed"
    },
    "tags": []
   },
   "outputs": [],
   "source": [
    "total_steps = len(train_dataloader) * epochs\n",
    "\n",
    "scheduler = get_linear_schedule_with_warmup(optimizer, num_warmup_steps=0, num_training_steps=total_steps)\n",
    "\n",
    "# Loss function\n",
    "weights = torch.tensor(class_weights, dtype=torch.float).to(device)\n",
    "cross_entropy = nn.CrossEntropyLoss(weight=weights)"
   ]
  },
  {
   "cell_type": "code",
   "execution_count": 45,
   "id": "a9705c08",
   "metadata": {
    "execution": {
     "iopub.execute_input": "2025-03-01T20:17:11.049187Z",
     "iopub.status.busy": "2025-03-01T20:17:11.048731Z",
     "iopub.status.idle": "2025-03-01T20:17:11.052139Z",
     "shell.execute_reply": "2025-03-01T20:17:11.051482Z"
    },
    "papermill": {
     "duration": 0.016704,
     "end_time": "2025-03-01T20:17:11.053498",
     "exception": false,
     "start_time": "2025-03-01T20:17:11.036794",
     "status": "completed"
    },
    "tags": []
   },
   "outputs": [],
   "source": [
    "from torch.cuda.amp import GradScaler, autocast"
   ]
  },
  {
   "cell_type": "markdown",
   "id": "33f471b7",
   "metadata": {
    "papermill": {
     "duration": 0.011089,
     "end_time": "2025-03-01T20:17:11.075904",
     "exception": false,
     "start_time": "2025-03-01T20:17:11.064815",
     "status": "completed"
    },
    "tags": []
   },
   "source": [
    "## EARLY STOPPING SETUP"
   ]
  },
  {
   "cell_type": "code",
   "execution_count": 46,
   "id": "d6da6ec7",
   "metadata": {
    "execution": {
     "iopub.execute_input": "2025-03-01T20:17:11.099894Z",
     "iopub.status.busy": "2025-03-01T20:17:11.099324Z",
     "iopub.status.idle": "2025-03-01T20:17:11.103969Z",
     "shell.execute_reply": "2025-03-01T20:17:11.103288Z"
    },
    "papermill": {
     "duration": 0.018253,
     "end_time": "2025-03-01T20:17:11.105432",
     "exception": false,
     "start_time": "2025-03-01T20:17:11.087179",
     "status": "completed"
    },
    "tags": []
   },
   "outputs": [],
   "source": [
    "class EarlyStopping:\n",
    "    def __init__(self, patience, delta=0):  # Increased patience\n",
    "        self.patience = patience\n",
    "        self.delta = delta\n",
    "        self.best_loss = float('inf')\n",
    "        self.counter = 0\n",
    "        self.early_stop = False\n",
    "\n",
    "    def __call__(self, valid_loss):\n",
    "        if valid_loss < self.best_loss - self.delta:\n",
    "            self.best_loss = valid_loss\n",
    "            self.counter = 0\n",
    "        else:\n",
    "            self.counter += 1\n",
    "            if self.counter >= self.patience:\n",
    "                self.early_stop = True"
   ]
  },
  {
   "cell_type": "code",
   "execution_count": 47,
   "id": "fd8ac8a9",
   "metadata": {
    "execution": {
     "iopub.execute_input": "2025-03-01T20:17:11.132123Z",
     "iopub.status.busy": "2025-03-01T20:17:11.131700Z",
     "iopub.status.idle": "2025-03-01T20:17:11.135214Z",
     "shell.execute_reply": "2025-03-01T20:17:11.134559Z"
    },
    "papermill": {
     "duration": 0.017757,
     "end_time": "2025-03-01T20:17:11.137498",
     "exception": false,
     "start_time": "2025-03-01T20:17:11.119741",
     "status": "completed"
    },
    "tags": []
   },
   "outputs": [],
   "source": [
    "early_stopping = EarlyStopping(patience=3)"
   ]
  },
  {
   "cell_type": "code",
   "execution_count": 48,
   "id": "62b91ec0",
   "metadata": {
    "execution": {
     "iopub.execute_input": "2025-03-01T20:17:11.162551Z",
     "iopub.status.busy": "2025-03-01T20:17:11.162293Z",
     "iopub.status.idle": "2025-03-01T20:17:11.165586Z",
     "shell.execute_reply": "2025-03-01T20:17:11.164912Z"
    },
    "papermill": {
     "duration": 0.017226,
     "end_time": "2025-03-01T20:17:11.167131",
     "exception": false,
     "start_time": "2025-03-01T20:17:11.149905",
     "status": "completed"
    },
    "tags": []
   },
   "outputs": [],
   "source": [
    "# Gradient Scaler\n",
    "scaler = GradScaler()"
   ]
  },
  {
   "cell_type": "markdown",
   "id": "d1c62ca4",
   "metadata": {
    "papermill": {
     "duration": 0.011057,
     "end_time": "2025-03-01T20:17:11.189687",
     "exception": false,
     "start_time": "2025-03-01T20:17:11.178630",
     "status": "completed"
    },
    "tags": []
   },
   "source": [
    "## FUNCTIONS"
   ]
  },
  {
   "cell_type": "code",
   "execution_count": 49,
   "id": "aa36612b",
   "metadata": {
    "execution": {
     "iopub.execute_input": "2025-03-01T20:17:11.213067Z",
     "iopub.status.busy": "2025-03-01T20:17:11.212864Z",
     "iopub.status.idle": "2025-03-01T20:17:11.219723Z",
     "shell.execute_reply": "2025-03-01T20:17:11.218972Z"
    },
    "papermill": {
     "duration": 0.020308,
     "end_time": "2025-03-01T20:17:11.221272",
     "exception": false,
     "start_time": "2025-03-01T20:17:11.200964",
     "status": "completed"
    },
    "tags": []
   },
   "outputs": [],
   "source": [
    "def train():\n",
    "    model.train()\n",
    "    total_loss, total_accuracy = 0, 0\n",
    "    total_preds, total_labels = [], []\n",
    "\n",
    "    for step, batch in enumerate(train_dataloader, 0):\n",
    "        batch = [r.to(device) for r in batch]\n",
    "        sent_id, mask, token_type_ids, labels = batch\n",
    "\n",
    "        optimizer.zero_grad()\n",
    "\n",
    "        with autocast():\n",
    "            preds = model(sent_id, mask, token_type_ids)\n",
    "            loss = cross_entropy(preds, labels)\n",
    "        \n",
    "        # Accumulate the loss\n",
    "        total_loss += loss.item()\n",
    "\n",
    "        # Perform backward pass with mixed precision\n",
    "        scaler.scale(loss).backward()\n",
    "        scaler.unscale_(optimizer)\n",
    "        torch.nn.utils.clip_grad_norm_(model.parameters(), 1.0)\n",
    "        scaler.step(optimizer)\n",
    "        scaler.update()\n",
    "        scheduler.step()\n",
    "\n",
    "        preds = preds.detach().cpu().numpy()\n",
    "        total_preds.append(preds)\n",
    "        total_labels.append(labels.detach().cpu().numpy())\n",
    "\n",
    "    avg_loss = total_loss / len(train_dataloader)\n",
    "    total_preds = np.concatenate(total_preds, axis=0)\n",
    "    total_labels = np.concatenate(total_labels, axis=0)\n",
    "    return avg_loss, total_preds, total_labels"
   ]
  },
  {
   "cell_type": "code",
   "execution_count": 50,
   "id": "8a8cb75c",
   "metadata": {
    "execution": {
     "iopub.execute_input": "2025-03-01T20:17:11.245281Z",
     "iopub.status.busy": "2025-03-01T20:17:11.245044Z",
     "iopub.status.idle": "2025-03-01T20:17:11.248689Z",
     "shell.execute_reply": "2025-03-01T20:17:11.247934Z"
    },
    "jupyter": {
     "source_hidden": true
    },
    "papermill": {
     "duration": 0.017746,
     "end_time": "2025-03-01T20:17:11.250316",
     "exception": false,
     "start_time": "2025-03-01T20:17:11.232570",
     "status": "completed"
    },
    "tags": []
   },
   "outputs": [],
   "source": [
    "# def train():\n",
    "#     model.train()\n",
    "#     total_loss, total_accuracy = 0, 0\n",
    "#     total_preds, total_labels = [], []\n",
    "\n",
    "#     for step, batch in enumerate(train_dataloader, 0):\n",
    "#         batch = [r.to(device) for r in batch]\n",
    "#         sent_id, mask, token_type_ids, labels = batch\n",
    "\n",
    "#         model.zero_grad()\n",
    "#         preds = model(sent_id, mask, token_type_ids)\n",
    "#         loss = cross_entropy(preds, labels)\n",
    "#         total_loss = total_loss + loss.item()\n",
    "#         loss.backward()\n",
    "#         torch.nn.utils.clip_grad_norm_(model.parameters(), 1.0)\n",
    "#         optimizer.step()\n",
    "#         scheduler.step()\n",
    "\n",
    "#         preds = preds.detach().cpu().numpy()\n",
    "#         total_preds.append(preds)\n",
    "#         total_labels.append(labels.detach().cpu().numpy())\n",
    "\n",
    "#     avg_loss = total_loss / len(train_dataloader)\n",
    "#     total_preds = np.concatenate(total_preds, axis=0)\n",
    "#     total_labels = np.concatenate(total_labels, axis=0)\n",
    "#     return avg_loss, total_preds, total_labels"
   ]
  },
  {
   "cell_type": "code",
   "execution_count": 51,
   "id": "eff1027d",
   "metadata": {
    "execution": {
     "iopub.execute_input": "2025-03-01T20:17:11.274294Z",
     "iopub.status.busy": "2025-03-01T20:17:11.274066Z",
     "iopub.status.idle": "2025-03-01T20:17:11.279450Z",
     "shell.execute_reply": "2025-03-01T20:17:11.278755Z"
    },
    "papermill": {
     "duration": 0.019009,
     "end_time": "2025-03-01T20:17:11.280998",
     "exception": false,
     "start_time": "2025-03-01T20:17:11.261989",
     "status": "completed"
    },
    "tags": []
   },
   "outputs": [],
   "source": [
    "def evaluate():\n",
    "    model.eval()\n",
    "    total_loss, total_accuracy = 0, 0\n",
    "    total_preds, total_labels = [], []\n",
    "\n",
    "    for step, batch in enumerate(val_dataloader):\n",
    "        batch = [t.to(device) for t in batch]\n",
    "        sent_id, mask, token_type_ids, labels = batch\n",
    "\n",
    "        with torch.no_grad(), autocast():\n",
    "            preds = model(sent_id, mask, token_type_ids)\n",
    "            loss = cross_entropy(preds, labels)\n",
    "        \n",
    "        total_loss += loss.item()\n",
    "        preds = preds.detach().cpu().numpy()\n",
    "        total_preds.append(preds)\n",
    "        total_labels.append(labels.detach().cpu().numpy())\n",
    "\n",
    "    avg_loss = total_loss / len(val_dataloader)\n",
    "    total_preds = np.concatenate(total_preds, axis=0)\n",
    "    total_labels = np.concatenate(total_labels, axis=0)\n",
    "    return avg_loss, total_preds, total_labels"
   ]
  },
  {
   "cell_type": "code",
   "execution_count": 52,
   "id": "1f28578b",
   "metadata": {
    "execution": {
     "iopub.execute_input": "2025-03-01T20:17:11.304783Z",
     "iopub.status.busy": "2025-03-01T20:17:11.304539Z",
     "iopub.status.idle": "2025-03-01T20:17:11.308014Z",
     "shell.execute_reply": "2025-03-01T20:17:11.307322Z"
    },
    "jupyter": {
     "source_hidden": true
    },
    "papermill": {
     "duration": 0.017172,
     "end_time": "2025-03-01T20:17:11.309413",
     "exception": false,
     "start_time": "2025-03-01T20:17:11.292241",
     "status": "completed"
    },
    "tags": []
   },
   "outputs": [],
   "source": [
    "# def evaluate():\n",
    "#     model.eval()\n",
    "#     total_loss, total_accuracy = 0, 0\n",
    "#     total_preds, total_labels = [], []\n",
    "\n",
    "#     for step, batch in enumerate(val_dataloader):\n",
    "#         batch = [t.to(device) for t in batch]\n",
    "#         sent_id, mask, token_type_ids, labels = batch\n",
    "\n",
    "#         with torch.no_grad():\n",
    "#             preds = model(sent_id, mask, token_type_ids)\n",
    "#             loss = cross_entropy(preds, labels)\n",
    "#             total_loss = total_loss + loss.item()\n",
    "#             preds = preds.detach().cpu().numpy()\n",
    "#             total_preds.append(preds)\n",
    "#             total_labels.append(labels.detach().cpu().numpy())\n",
    "\n",
    "#     avg_loss = total_loss / len(val_dataloader)\n",
    "#     total_preds = np.concatenate(total_preds, axis=0)\n",
    "#     total_labels = np.concatenate(total_labels, axis=0)\n",
    "#     return avg_loss, total_preds, total_labels\n"
   ]
  },
  {
   "cell_type": "code",
   "execution_count": 53,
   "id": "66c95136",
   "metadata": {
    "execution": {
     "iopub.execute_input": "2025-03-01T20:17:11.333106Z",
     "iopub.status.busy": "2025-03-01T20:17:11.332880Z",
     "iopub.status.idle": "2025-03-01T20:17:11.336704Z",
     "shell.execute_reply": "2025-03-01T20:17:11.335984Z"
    },
    "papermill": {
     "duration": 0.017306,
     "end_time": "2025-03-01T20:17:11.338203",
     "exception": false,
     "start_time": "2025-03-01T20:17:11.320897",
     "status": "completed"
    },
    "tags": []
   },
   "outputs": [],
   "source": [
    "def calculate_accuracy(preds, labels):\n",
    "    preds_flat = np.argmax(preds, axis=1).flatten()\n",
    "    labels_flat = labels.flatten()\n",
    "    accuracy = np.sum(preds_flat == labels_flat) / len(labels_flat)\n",
    "    return accuracy"
   ]
  },
  {
   "cell_type": "code",
   "execution_count": 54,
   "id": "192cf42e",
   "metadata": {
    "execution": {
     "iopub.execute_input": "2025-03-01T20:17:11.362498Z",
     "iopub.status.busy": "2025-03-01T20:17:11.362283Z",
     "iopub.status.idle": "2025-03-01T20:17:11.367324Z",
     "shell.execute_reply": "2025-03-01T20:17:11.366565Z"
    },
    "jupyter": {
     "source_hidden": true
    },
    "papermill": {
     "duration": 0.018896,
     "end_time": "2025-03-01T20:17:11.368904",
     "exception": false,
     "start_time": "2025-03-01T20:17:11.350008",
     "status": "completed"
    },
    "tags": []
   },
   "outputs": [],
   "source": [
    "# def train():\n",
    "#     model.train()\n",
    "#     total_loss, total_accuracy = 0, 0\n",
    "#     total_preds, total_labels = [], []\n",
    "\n",
    "#     for step, batch in enumerate(train_dataloader, 0):\n",
    "#         if step % 50 == 0 and not step == 0:\n",
    "#             print('  Batch {:>5,}  of  {:>5,}.'.format(step, len(train_dataloader)))\n",
    "\n",
    "# #         sent_id = batch[:,0].to(device, dtype = torch.long)\n",
    "# #         mask = data[:,1].to(device, dtype = torch.long)\n",
    "# #         token_type_ids = data[:,2].to(device, dtype = torch.long)\n",
    "# #         labels = data[:,3].to(device, dtype = torch.float)\n",
    "        \n",
    "# #         token_type_ids = batch['token_type_ids'].to(device)\n",
    "#         batch = [r.to(device) for r in batch]\n",
    "#         sent_id, mask, token_type_ids, labels = batch\n",
    "\n",
    "#         model.zero_grad()\n",
    "#         preds = model(sent_id, mask, token_type_ids)\n",
    "#         loss = cross_entropy(preds, labels)\n",
    "#         total_loss = total_loss + loss.item()\n",
    "#         loss.backward()\n",
    "#         torch.nn.utils.clip_grad_norm_(model.parameters(), 1.0)\n",
    "#         optimizer.step()\n",
    "\n",
    "#         preds = preds.detach().cpu().numpy()\n",
    "#         total_preds.append(preds)\n",
    "#         total_labels.append(labels.detach().cpu().numpy())\n",
    "\n",
    "#     avg_loss = total_loss / len(train_dataloader)\n",
    "#     total_preds = np.concatenate(total_preds, axis=0)\n",
    "#     total_labels = np.concatenate(total_labels, axis=0)\n",
    "#     return avg_loss, total_preds, total_labels\n",
    "\n",
    "# def evaluate():\n",
    "#     print(\"\\nEvaluating after the test: \")\n",
    "#     model.eval()\n",
    "#     total_loss, total_accuracy = 0, 0\n",
    "#     total_preds, total_labels = [], []\n",
    "\n",
    "#     for step, batch in enumerate(val_dataloader):\n",
    "#         if step % 50 == 0 and not step == 0:\n",
    "#             print('  Batch {:>5,}  of  {:>5,}.'.format(step, len(val_dataloader)))\n",
    "            \n",
    "# #         sent_id = batch[:,0].to(device, dtype = torch.long)\n",
    "# #         mask = data[:,1].to(device, dtype = torch.long)\n",
    "# #         token_type_ids = data[:,2].to(device, dtype = torch.long)\n",
    "# #         labels = data[:,3].to(device, dtype = torch.float)\n",
    "\n",
    "# #         token_type_ids = batch['token_type_ids'].to(device)\n",
    "#         batch = [t.to(device) for t in batch]\n",
    "#         sent_id, mask, token_type_ids, labels = batch\n",
    "\n",
    "#         with torch.no_grad():\n",
    "#             preds = model(sent_id, mask, token_type_ids)\n",
    "#             loss = cross_entropy(preds, labels)\n",
    "#             total_loss = total_loss + loss.item()\n",
    "#             preds = preds.detach().cpu().numpy()\n",
    "#             total_preds.append(preds)\n",
    "#             total_labels.append(labels.detach().cpu().numpy())\n",
    "\n",
    "#     avg_loss = total_loss / len(val_dataloader)\n",
    "#     total_preds = np.concatenate(total_preds, axis=0)\n",
    "#     total_labels = np.concatenate(total_labels, axis=0)\n",
    "#     return avg_loss, total_preds, total_labels\n",
    "\n",
    "# def calculate_accuracy(preds, labels):\n",
    "\n",
    "#     preds_flat = np.argmax(preds, axis=1).flatten()\n",
    "#     labels_flat = labels.flatten()\n",
    "#     accuracy = np.sum(preds_flat == labels_flat) / len(labels_flat)\n",
    "#     return accuracy\n"
   ]
  },
  {
   "cell_type": "code",
   "execution_count": 55,
   "id": "49fa03de",
   "metadata": {
    "execution": {
     "iopub.execute_input": "2025-03-01T20:17:11.392538Z",
     "iopub.status.busy": "2025-03-01T20:17:11.392294Z",
     "iopub.status.idle": "2025-03-01T20:17:11.396101Z",
     "shell.execute_reply": "2025-03-01T20:17:11.395440Z"
    },
    "jupyter": {
     "source_hidden": true
    },
    "papermill": {
     "duration": 0.017569,
     "end_time": "2025-03-01T20:17:11.397717",
     "exception": false,
     "start_time": "2025-03-01T20:17:11.380148",
     "status": "completed"
    },
    "tags": []
   },
   "outputs": [],
   "source": [
    "# best_valid_loss = float('inf')\n",
    "# train_losses = []\n",
    "# valid_losses = []\n",
    "# train_accuracies = []\n",
    "# valid_accuracies = []\n",
    "\n",
    "# for epoch in range(epochs):\n",
    "#     print('\\n Epoch {:} / {:}'.format(epoch + 1, epochs))\n",
    "    \n",
    "#     train_loss, train_preds, train_labels = train()\n",
    "#     valid_loss, valid_preds, valid_labels = evaluate()\n",
    "#     train_accuracy = calculate_accuracy(train_preds, train_labels)\n",
    "#     valid_accuracy = calculate_accuracy(valid_preds, valid_labels)\n",
    "\n",
    "#     if valid_loss < best_valid_loss:\n",
    "#         best_valid_loss = valid_loss\n",
    "#         torch.save(model.state_dict(), 'saved_weights.pt')\n",
    "    \n",
    "#     train_losses.append(train_loss)\n",
    "#     valid_losses.append(valid_loss)\n",
    "#     train_accuracies.append(train_accuracy)\n",
    "#     valid_accuracies.append(valid_accuracy)\n",
    "    \n",
    "#     print('\\nTraining Loss: {}'.format(train_loss))\n",
    "#     print('Validation Loss: {}'.format(valid_loss))\n",
    "#     print('Training Accuracy: {:.2f}%'.format(train_accuracy * 100))\n",
    "#     print('Validation Accuracy: {:.2f}%'.format(valid_accuracy * 100))\n"
   ]
  },
  {
   "cell_type": "code",
   "execution_count": 56,
   "id": "3040e3bc",
   "metadata": {
    "execution": {
     "iopub.execute_input": "2025-03-01T20:17:11.421625Z",
     "iopub.status.busy": "2025-03-01T20:17:11.421005Z",
     "iopub.status.idle": "2025-03-01T20:18:37.691315Z",
     "shell.execute_reply": "2025-03-01T20:18:37.690270Z"
    },
    "papermill": {
     "duration": 86.28403,
     "end_time": "2025-03-01T20:18:37.693161",
     "exception": false,
     "start_time": "2025-03-01T20:17:11.409131",
     "status": "completed"
    },
    "tags": []
   },
   "outputs": [
    {
     "name": "stdout",
     "output_type": "stream",
     "text": [
      "\n",
      " Epoch 1 / 12\n",
      "\n",
      "Training Loss: 0.7210995467697702\n",
      "Validation Loss: 0.682951440413793\n",
      "Training Accuracy: 50.04%\n",
      "Validation Accuracy: 64.80%\n",
      "\n",
      " Epoch 2 / 12\n",
      "\n",
      "Training Loss: 0.6670725636365937\n",
      "Validation Loss: 0.6152815918127695\n",
      "Training Accuracy: 59.91%\n",
      "Validation Accuracy: 68.22%\n",
      "\n",
      " Epoch 3 / 12\n",
      "\n",
      "Training Loss: 0.6097231463688176\n",
      "Validation Loss: 0.5359322478373846\n",
      "Training Accuracy: 68.66%\n",
      "Validation Accuracy: 73.21%\n",
      "\n",
      " Epoch 4 / 12\n",
      "\n",
      "Training Loss: 0.5269810891732937\n",
      "Validation Loss: 0.45999955882628757\n",
      "Training Accuracy: 75.58%\n",
      "Validation Accuracy: 77.57%\n",
      "\n",
      " Epoch 5 / 12\n",
      "\n",
      "Training Loss: 0.4649686028317707\n",
      "Validation Loss: 0.42906952649354935\n",
      "Training Accuracy: 78.38%\n",
      "Validation Accuracy: 78.82%\n",
      "\n",
      " Epoch 6 / 12\n",
      "\n",
      "Training Loss: 0.4374897131105749\n",
      "Validation Loss: 0.4040707051753998\n",
      "Training Accuracy: 80.91%\n",
      "Validation Accuracy: 79.75%\n",
      "\n",
      " Epoch 7 / 12\n",
      "\n",
      "Training Loss: 0.4039137835909681\n",
      "Validation Loss: 0.39488334208726883\n",
      "Training Accuracy: 82.89%\n",
      "Validation Accuracy: 80.69%\n",
      "\n",
      " Epoch 8 / 12\n",
      "\n",
      "Training Loss: 0.3883527924374836\n",
      "Validation Loss: 0.3718475264807542\n",
      "Training Accuracy: 83.40%\n",
      "Validation Accuracy: 82.24%\n",
      "\n",
      " Epoch 9 / 12\n",
      "\n",
      "Training Loss: 0.37741934889700357\n",
      "Validation Loss: 0.37102773413062096\n",
      "Training Accuracy: 83.75%\n",
      "Validation Accuracy: 82.55%\n",
      "\n",
      " Epoch 10 / 12\n",
      "\n",
      "Training Loss: 0.3768664267731876\n",
      "Validation Loss: 0.36813300599654514\n",
      "Training Accuracy: 84.10%\n",
      "Validation Accuracy: 82.55%\n",
      "\n",
      " Epoch 11 / 12\n",
      "\n",
      "Training Loss: 0.36337286306590566\n",
      "Validation Loss: 0.36105383560061455\n",
      "Training Accuracy: 84.49%\n",
      "Validation Accuracy: 82.55%\n",
      "\n",
      " Epoch 12 / 12\n",
      "\n",
      "Training Loss: 0.3782014243486451\n",
      "Validation Loss: 0.36108650515476864\n",
      "Training Accuracy: 83.63%\n",
      "Validation Accuracy: 82.87%\n"
     ]
    }
   ],
   "source": [
    "best_valid_loss = float('inf')\n",
    "train_losses = []\n",
    "valid_losses = []\n",
    "train_accuracies = []\n",
    "valid_accuracies = []\n",
    "\n",
    "\n",
    "for epoch in range(epochs):\n",
    "    print('\\n Epoch {:} / {:}'.format(epoch + 1, epochs))\n",
    "    \n",
    "    train_loss, train_preds, train_labels = train()\n",
    "    valid_loss, valid_preds, valid_labels = evaluate()\n",
    "    train_accuracy = calculate_accuracy(train_preds, train_labels)\n",
    "    valid_accuracy = calculate_accuracy(valid_preds, valid_labels)\n",
    "\n",
    "    if valid_loss < best_valid_loss:\n",
    "        best_valid_loss = valid_loss\n",
    "        torch.save(model.state_dict(), 'saved_weights.pt')\n",
    "    \n",
    "    train_losses.append(train_loss)\n",
    "    valid_losses.append(valid_loss)\n",
    "    train_accuracies.append(train_accuracy)\n",
    "    valid_accuracies.append(valid_accuracy)\n",
    "\n",
    "    early_stopping(valid_loss)\n",
    "    if early_stopping.early_stop:\n",
    "        print(\"Early stopping triggered\")\n",
    "        break\n",
    "    \n",
    "    print('\\nTraining Loss: {}'.format(train_loss))\n",
    "    print('Validation Loss: {}'.format(valid_loss))\n",
    "    print('Training Accuracy: {:.2f}%'.format(train_accuracy * 100))\n",
    "    print('Validation Accuracy: {:.2f}%'.format(valid_accuracy * 100))"
   ]
  },
  {
   "cell_type": "markdown",
   "id": "75f9e97b",
   "metadata": {
    "papermill": {
     "duration": 0.011935,
     "end_time": "2025-03-01T20:18:37.718210",
     "exception": false,
     "start_time": "2025-03-01T20:18:37.706275",
     "status": "completed"
    },
    "tags": []
   },
   "source": [
    "# CLASSIFICATION REPORT"
   ]
  },
  {
   "cell_type": "code",
   "execution_count": 57,
   "id": "c5f6b741",
   "metadata": {
    "execution": {
     "iopub.execute_input": "2025-03-01T20:18:37.744149Z",
     "iopub.status.busy": "2025-03-01T20:18:37.743880Z",
     "iopub.status.idle": "2025-03-01T20:18:39.764203Z",
     "shell.execute_reply": "2025-03-01T20:18:39.763137Z"
    },
    "papermill": {
     "duration": 2.035745,
     "end_time": "2025-03-01T20:18:39.766162",
     "exception": false,
     "start_time": "2025-03-01T20:18:37.730417",
     "status": "completed"
    },
    "tags": []
   },
   "outputs": [
    {
     "name": "stdout",
     "output_type": "stream",
     "text": [
      "              precision    recall  f1-score   support\n",
      "\n",
      "           0       0.82      0.80      0.81       157\n",
      "           1       0.81      0.84      0.82       165\n",
      "\n",
      "    accuracy                           0.82       322\n",
      "   macro avg       0.82      0.82      0.82       322\n",
      "weighted avg       0.82      0.82      0.82       322\n",
      "\n"
     ]
    }
   ],
   "source": [
    "from sklearn.metrics import classification_report\n",
    "with torch.no_grad():\n",
    "  preds = model(test_seq.to(device), test_mask.to(device), test_token_type_ids.to(device))\n",
    "  preds = preds.detach().cpu().numpy()\n",
    "pred = np.argmax(preds, axis = 1)\n",
    "print(classification_report(test_y, pred))"
   ]
  },
  {
   "cell_type": "code",
   "execution_count": 58,
   "id": "ed023a6e",
   "metadata": {
    "execution": {
     "iopub.execute_input": "2025-03-01T20:18:39.792814Z",
     "iopub.status.busy": "2025-03-01T20:18:39.792079Z",
     "iopub.status.idle": "2025-03-01T20:18:39.845285Z",
     "shell.execute_reply": "2025-03-01T20:18:39.844556Z"
    },
    "papermill": {
     "duration": 0.067642,
     "end_time": "2025-03-01T20:18:39.846885",
     "exception": false,
     "start_time": "2025-03-01T20:18:39.779243",
     "status": "completed"
    },
    "tags": []
   },
   "outputs": [
    {
     "name": "stderr",
     "output_type": "stream",
     "text": [
      "Truncation was not explicitly activated but `max_length` is provided a specific value, please use `truncation=True` to explicitly truncate examples to max length. Defaulting to 'longest_first' truncation strategy. If you encode pairs of sequences (GLUE-style) with the tokenizer you can select this strategy more precisely by providing a specific strategy to `truncation`.\n"
     ]
    },
    {
     "name": "stdout",
     "output_type": "stream",
     "text": [
      "Predicted sentiment: Negative\n"
     ]
    }
   ],
   "source": [
    "def predict_user_input(input_text, model, tokenizer, device):\n",
    "    inputs = tokenizer.encode_plus(\n",
    "        input_text,\n",
    "        add_special_tokens=True,\n",
    "        max_length=max_seq_len,\n",
    "        pad_to_max_length=True,\n",
    "        return_attention_mask=True,\n",
    "        return_token_type_ids=True,\n",
    "        return_tensors='pt',\n",
    "    )\n",
    "    input_ids = inputs['input_ids'].to(device)\n",
    "    attention_mask = inputs['attention_mask'].to(device)\n",
    "    token_type_ids = inputs['token_type_ids'].to(device)\n",
    "\n",
    "    with torch.no_grad():\n",
    "        outputs = model(input_ids, attention_mask, token_type_ids)\n",
    "        preds = torch.argmax(outputs, dim=1)\n",
    "    \n",
    "    return preds.item()\n",
    "max_seq_len=128\n",
    "input_text = \"I been told you that yo folks dont care about you . Im starving and my dad deadass didnt make me a plate\"\n",
    "predicted_class = predict_user_input(input_text, model, tokenizer, device)\n",
    "if(predicted_class==0):\n",
    "    print('Predicted sentiment: Negative')\n",
    "else:\n",
    "    print('Predicted sentiment: Positive')"
   ]
  },
  {
   "cell_type": "code",
   "execution_count": 59,
   "id": "c7fba311",
   "metadata": {
    "execution": {
     "iopub.execute_input": "2025-03-01T20:18:39.872041Z",
     "iopub.status.busy": "2025-03-01T20:18:39.871799Z",
     "iopub.status.idle": "2025-03-01T20:18:39.886009Z",
     "shell.execute_reply": "2025-03-01T20:18:39.885263Z"
    },
    "papermill": {
     "duration": 0.028433,
     "end_time": "2025-03-01T20:18:39.887580",
     "exception": false,
     "start_time": "2025-03-01T20:18:39.859147",
     "status": "completed"
    },
    "tags": []
   },
   "outputs": [
    {
     "name": "stdout",
     "output_type": "stream",
     "text": [
      "Predicted sentiment: Positive\n"
     ]
    }
   ],
   "source": [
    "input_text = \"what a badass character Arthur is, rckstr is the bst\"\n",
    "predicted_class = predict_user_input(input_text, model, tokenizer, device)\n",
    "if(predicted_class==0):\n",
    "    print('Predicted sentiment: Negative')\n",
    "else:\n",
    "    print('Predicted sentiment: Positive')"
   ]
  },
  {
   "cell_type": "code",
   "execution_count": 60,
   "id": "3f8c31f5",
   "metadata": {
    "execution": {
     "iopub.execute_input": "2025-03-01T20:18:39.913015Z",
     "iopub.status.busy": "2025-03-01T20:18:39.912786Z",
     "iopub.status.idle": "2025-03-01T20:18:40.734707Z",
     "shell.execute_reply": "2025-03-01T20:18:40.733948Z"
    },
    "papermill": {
     "duration": 0.837091,
     "end_time": "2025-03-01T20:18:40.736919",
     "exception": false,
     "start_time": "2025-03-01T20:18:39.899828",
     "status": "completed"
    },
    "tags": []
   },
   "outputs": [],
   "source": [
    "torch.save(model.state_dict(), \"bert_saved_weights.pt\")"
   ]
  }
 ],
 "metadata": {
  "kaggle": {
   "accelerator": "nvidiaTeslaT4",
   "dataSources": [
    {
     "datasetId": 5557640,
     "sourceId": 10887907,
     "sourceType": "datasetVersion"
    }
   ],
   "dockerImageVersionId": 30747,
   "isGpuEnabled": true,
   "isInternetEnabled": true,
   "language": "python",
   "sourceType": "notebook"
  },
  "kernelspec": {
   "display_name": "Python 3",
   "language": "python",
   "name": "python3"
  },
  "language_info": {
   "codemirror_mode": {
    "name": "ipython",
    "version": 3
   },
   "file_extension": ".py",
   "mimetype": "text/x-python",
   "name": "python",
   "nbconvert_exporter": "python",
   "pygments_lexer": "ipython3",
   "version": "3.10.13"
  },
  "papermill": {
   "default_parameters": {},
   "duration": 108.083752,
   "end_time": "2025-03-01T20:18:42.273554",
   "environment_variables": {},
   "exception": null,
   "input_path": "__notebook__.ipynb",
   "output_path": "__notebook__.ipynb",
   "parameters": {},
   "start_time": "2025-03-01T20:16:54.189802",
   "version": "2.5.0"
  },
  "widgets": {
   "application/vnd.jupyter.widget-state+json": {
    "state": {
     "04ca97d610a543c2bd3bb4af553b7448": {
      "model_module": "@jupyter-widgets/controls",
      "model_module_version": "1.5.0",
      "model_name": "DescriptionStyleModel",
      "state": {
       "_model_module": "@jupyter-widgets/controls",
       "_model_module_version": "1.5.0",
       "_model_name": "DescriptionStyleModel",
       "_view_count": null,
       "_view_module": "@jupyter-widgets/base",
       "_view_module_version": "1.2.0",
       "_view_name": "StyleView",
       "description_width": ""
      }
     },
     "08d7885bf4df4e18bd125b8c9a6f3780": {
      "model_module": "@jupyter-widgets/base",
      "model_module_version": "1.2.0",
      "model_name": "LayoutModel",
      "state": {
       "_model_module": "@jupyter-widgets/base",
       "_model_module_version": "1.2.0",
       "_model_name": "LayoutModel",
       "_view_count": null,
       "_view_module": "@jupyter-widgets/base",
       "_view_module_version": "1.2.0",
       "_view_name": "LayoutView",
       "align_content": null,
       "align_items": null,
       "align_self": null,
       "border": null,
       "bottom": null,
       "display": null,
       "flex": null,
       "flex_flow": null,
       "grid_area": null,
       "grid_auto_columns": null,
       "grid_auto_flow": null,
       "grid_auto_rows": null,
       "grid_column": null,
       "grid_gap": null,
       "grid_row": null,
       "grid_template_areas": null,
       "grid_template_columns": null,
       "grid_template_rows": null,
       "height": null,
       "justify_content": null,
       "justify_items": null,
       "left": null,
       "margin": null,
       "max_height": null,
       "max_width": null,
       "min_height": null,
       "min_width": null,
       "object_fit": null,
       "object_position": null,
       "order": null,
       "overflow": null,
       "overflow_x": null,
       "overflow_y": null,
       "padding": null,
       "right": null,
       "top": null,
       "visibility": null,
       "width": null
      }
     },
     "092a05cbb9a14b9ba1abc7aa3112dab0": {
      "model_module": "@jupyter-widgets/controls",
      "model_module_version": "1.5.0",
      "model_name": "HTMLModel",
      "state": {
       "_dom_classes": [],
       "_model_module": "@jupyter-widgets/controls",
       "_model_module_version": "1.5.0",
       "_model_name": "HTMLModel",
       "_view_count": null,
       "_view_module": "@jupyter-widgets/controls",
       "_view_module_version": "1.5.0",
       "_view_name": "HTMLView",
       "description": "",
       "description_tooltip": null,
       "layout": "IPY_MODEL_624680e4aed046c5b1782fcef2b47d20",
       "placeholder": "​",
       "style": "IPY_MODEL_65fd6d60fa204bbc93c0f8f7b79a715d",
       "value": " 466k/466k [00:00&lt;00:00, 11.4MB/s]"
      }
     },
     "0d8d72553cb7436ba1824716bae0aa9c": {
      "model_module": "@jupyter-widgets/base",
      "model_module_version": "1.2.0",
      "model_name": "LayoutModel",
      "state": {
       "_model_module": "@jupyter-widgets/base",
       "_model_module_version": "1.2.0",
       "_model_name": "LayoutModel",
       "_view_count": null,
       "_view_module": "@jupyter-widgets/base",
       "_view_module_version": "1.2.0",
       "_view_name": "LayoutView",
       "align_content": null,
       "align_items": null,
       "align_self": null,
       "border": null,
       "bottom": null,
       "display": null,
       "flex": null,
       "flex_flow": null,
       "grid_area": null,
       "grid_auto_columns": null,
       "grid_auto_flow": null,
       "grid_auto_rows": null,
       "grid_column": null,
       "grid_gap": null,
       "grid_row": null,
       "grid_template_areas": null,
       "grid_template_columns": null,
       "grid_template_rows": null,
       "height": null,
       "justify_content": null,
       "justify_items": null,
       "left": null,
       "margin": null,
       "max_height": null,
       "max_width": null,
       "min_height": null,
       "min_width": null,
       "object_fit": null,
       "object_position": null,
       "order": null,
       "overflow": null,
       "overflow_x": null,
       "overflow_y": null,
       "padding": null,
       "right": null,
       "top": null,
       "visibility": null,
       "width": null
      }
     },
     "16234cbe0071474ea004de11021fb154": {
      "model_module": "@jupyter-widgets/base",
      "model_module_version": "1.2.0",
      "model_name": "LayoutModel",
      "state": {
       "_model_module": "@jupyter-widgets/base",
       "_model_module_version": "1.2.0",
       "_model_name": "LayoutModel",
       "_view_count": null,
       "_view_module": "@jupyter-widgets/base",
       "_view_module_version": "1.2.0",
       "_view_name": "LayoutView",
       "align_content": null,
       "align_items": null,
       "align_self": null,
       "border": null,
       "bottom": null,
       "display": null,
       "flex": null,
       "flex_flow": null,
       "grid_area": null,
       "grid_auto_columns": null,
       "grid_auto_flow": null,
       "grid_auto_rows": null,
       "grid_column": null,
       "grid_gap": null,
       "grid_row": null,
       "grid_template_areas": null,
       "grid_template_columns": null,
       "grid_template_rows": null,
       "height": null,
       "justify_content": null,
       "justify_items": null,
       "left": null,
       "margin": null,
       "max_height": null,
       "max_width": null,
       "min_height": null,
       "min_width": null,
       "object_fit": null,
       "object_position": null,
       "order": null,
       "overflow": null,
       "overflow_x": null,
       "overflow_y": null,
       "padding": null,
       "right": null,
       "top": null,
       "visibility": null,
       "width": null
      }
     },
     "172175ba72d04c6eaf2c9478d6bd820d": {
      "model_module": "@jupyter-widgets/controls",
      "model_module_version": "1.5.0",
      "model_name": "DescriptionStyleModel",
      "state": {
       "_model_module": "@jupyter-widgets/controls",
       "_model_module_version": "1.5.0",
       "_model_name": "DescriptionStyleModel",
       "_view_count": null,
       "_view_module": "@jupyter-widgets/base",
       "_view_module_version": "1.2.0",
       "_view_name": "StyleView",
       "description_width": ""
      }
     },
     "181fb3b51f3b4544b70a6686d5f7e9c6": {
      "model_module": "@jupyter-widgets/base",
      "model_module_version": "1.2.0",
      "model_name": "LayoutModel",
      "state": {
       "_model_module": "@jupyter-widgets/base",
       "_model_module_version": "1.2.0",
       "_model_name": "LayoutModel",
       "_view_count": null,
       "_view_module": "@jupyter-widgets/base",
       "_view_module_version": "1.2.0",
       "_view_name": "LayoutView",
       "align_content": null,
       "align_items": null,
       "align_self": null,
       "border": null,
       "bottom": null,
       "display": null,
       "flex": null,
       "flex_flow": null,
       "grid_area": null,
       "grid_auto_columns": null,
       "grid_auto_flow": null,
       "grid_auto_rows": null,
       "grid_column": null,
       "grid_gap": null,
       "grid_row": null,
       "grid_template_areas": null,
       "grid_template_columns": null,
       "grid_template_rows": null,
       "height": null,
       "justify_content": null,
       "justify_items": null,
       "left": null,
       "margin": null,
       "max_height": null,
       "max_width": null,
       "min_height": null,
       "min_width": null,
       "object_fit": null,
       "object_position": null,
       "order": null,
       "overflow": null,
       "overflow_x": null,
       "overflow_y": null,
       "padding": null,
       "right": null,
       "top": null,
       "visibility": null,
       "width": null
      }
     },
     "1a09b14e1309463e91e5e254e36ae087": {
      "model_module": "@jupyter-widgets/base",
      "model_module_version": "1.2.0",
      "model_name": "LayoutModel",
      "state": {
       "_model_module": "@jupyter-widgets/base",
       "_model_module_version": "1.2.0",
       "_model_name": "LayoutModel",
       "_view_count": null,
       "_view_module": "@jupyter-widgets/base",
       "_view_module_version": "1.2.0",
       "_view_name": "LayoutView",
       "align_content": null,
       "align_items": null,
       "align_self": null,
       "border": null,
       "bottom": null,
       "display": null,
       "flex": null,
       "flex_flow": null,
       "grid_area": null,
       "grid_auto_columns": null,
       "grid_auto_flow": null,
       "grid_auto_rows": null,
       "grid_column": null,
       "grid_gap": null,
       "grid_row": null,
       "grid_template_areas": null,
       "grid_template_columns": null,
       "grid_template_rows": null,
       "height": null,
       "justify_content": null,
       "justify_items": null,
       "left": null,
       "margin": null,
       "max_height": null,
       "max_width": null,
       "min_height": null,
       "min_width": null,
       "object_fit": null,
       "object_position": null,
       "order": null,
       "overflow": null,
       "overflow_x": null,
       "overflow_y": null,
       "padding": null,
       "right": null,
       "top": null,
       "visibility": null,
       "width": null
      }
     },
     "1a90221ac2dd4ca19af40d5cfe387b6d": {
      "model_module": "@jupyter-widgets/controls",
      "model_module_version": "1.5.0",
      "model_name": "FloatProgressModel",
      "state": {
       "_dom_classes": [],
       "_model_module": "@jupyter-widgets/controls",
       "_model_module_version": "1.5.0",
       "_model_name": "FloatProgressModel",
       "_view_count": null,
       "_view_module": "@jupyter-widgets/controls",
       "_view_module_version": "1.5.0",
       "_view_name": "ProgressView",
       "bar_style": "success",
       "description": "",
       "description_tooltip": null,
       "layout": "IPY_MODEL_c6a14062773547a8904a67f04291483e",
       "max": 48.0,
       "min": 0.0,
       "orientation": "horizontal",
       "style": "IPY_MODEL_efc1812f5da443eba8d851afa31f6512",
       "value": 48.0
      }
     },
     "1ce555147e6a4eb0b98b6900264d411d": {
      "model_module": "@jupyter-widgets/controls",
      "model_module_version": "1.5.0",
      "model_name": "HBoxModel",
      "state": {
       "_dom_classes": [],
       "_model_module": "@jupyter-widgets/controls",
       "_model_module_version": "1.5.0",
       "_model_name": "HBoxModel",
       "_view_count": null,
       "_view_module": "@jupyter-widgets/controls",
       "_view_module_version": "1.5.0",
       "_view_name": "HBoxView",
       "box_style": "",
       "children": [
        "IPY_MODEL_a74fa46ef22c463f8cd7f32fbd5393ca",
        "IPY_MODEL_a0aad60e55f1446eae4d658ae4bdcb44",
        "IPY_MODEL_e69353c87981417094bf5d8cab57445b"
       ],
       "layout": "IPY_MODEL_c8d07557bf4e4d61bd1d61ef5e04b82e"
      }
     },
     "1f8595db42ee4e68b8b0d4231335508e": {
      "model_module": "@jupyter-widgets/base",
      "model_module_version": "1.2.0",
      "model_name": "LayoutModel",
      "state": {
       "_model_module": "@jupyter-widgets/base",
       "_model_module_version": "1.2.0",
       "_model_name": "LayoutModel",
       "_view_count": null,
       "_view_module": "@jupyter-widgets/base",
       "_view_module_version": "1.2.0",
       "_view_name": "LayoutView",
       "align_content": null,
       "align_items": null,
       "align_self": null,
       "border": null,
       "bottom": null,
       "display": null,
       "flex": null,
       "flex_flow": null,
       "grid_area": null,
       "grid_auto_columns": null,
       "grid_auto_flow": null,
       "grid_auto_rows": null,
       "grid_column": null,
       "grid_gap": null,
       "grid_row": null,
       "grid_template_areas": null,
       "grid_template_columns": null,
       "grid_template_rows": null,
       "height": null,
       "justify_content": null,
       "justify_items": null,
       "left": null,
       "margin": null,
       "max_height": null,
       "max_width": null,
       "min_height": null,
       "min_width": null,
       "object_fit": null,
       "object_position": null,
       "order": null,
       "overflow": null,
       "overflow_x": null,
       "overflow_y": null,
       "padding": null,
       "right": null,
       "top": null,
       "visibility": null,
       "width": null
      }
     },
     "3ffe39e82bd74914ab199a0ef427beba": {
      "model_module": "@jupyter-widgets/controls",
      "model_module_version": "1.5.0",
      "model_name": "DescriptionStyleModel",
      "state": {
       "_model_module": "@jupyter-widgets/controls",
       "_model_module_version": "1.5.0",
       "_model_name": "DescriptionStyleModel",
       "_view_count": null,
       "_view_module": "@jupyter-widgets/base",
       "_view_module_version": "1.2.0",
       "_view_name": "StyleView",
       "description_width": ""
      }
     },
     "42842aea66374bfb9e3f9b259e4ba90c": {
      "model_module": "@jupyter-widgets/base",
      "model_module_version": "1.2.0",
      "model_name": "LayoutModel",
      "state": {
       "_model_module": "@jupyter-widgets/base",
       "_model_module_version": "1.2.0",
       "_model_name": "LayoutModel",
       "_view_count": null,
       "_view_module": "@jupyter-widgets/base",
       "_view_module_version": "1.2.0",
       "_view_name": "LayoutView",
       "align_content": null,
       "align_items": null,
       "align_self": null,
       "border": null,
       "bottom": null,
       "display": null,
       "flex": null,
       "flex_flow": null,
       "grid_area": null,
       "grid_auto_columns": null,
       "grid_auto_flow": null,
       "grid_auto_rows": null,
       "grid_column": null,
       "grid_gap": null,
       "grid_row": null,
       "grid_template_areas": null,
       "grid_template_columns": null,
       "grid_template_rows": null,
       "height": null,
       "justify_content": null,
       "justify_items": null,
       "left": null,
       "margin": null,
       "max_height": null,
       "max_width": null,
       "min_height": null,
       "min_width": null,
       "object_fit": null,
       "object_position": null,
       "order": null,
       "overflow": null,
       "overflow_x": null,
       "overflow_y": null,
       "padding": null,
       "right": null,
       "top": null,
       "visibility": null,
       "width": null
      }
     },
     "451cdff79a494f6cafe9daa6e504d3c5": {
      "model_module": "@jupyter-widgets/controls",
      "model_module_version": "1.5.0",
      "model_name": "HBoxModel",
      "state": {
       "_dom_classes": [],
       "_model_module": "@jupyter-widgets/controls",
       "_model_module_version": "1.5.0",
       "_model_name": "HBoxModel",
       "_view_count": null,
       "_view_module": "@jupyter-widgets/controls",
       "_view_module_version": "1.5.0",
       "_view_name": "HBoxView",
       "box_style": "",
       "children": [
        "IPY_MODEL_59e1d120f1044ecfa6f937574fb1eb82",
        "IPY_MODEL_1a90221ac2dd4ca19af40d5cfe387b6d",
        "IPY_MODEL_aeeefee8f43b4ccdaf985edb7f37b37d"
       ],
       "layout": "IPY_MODEL_1f8595db42ee4e68b8b0d4231335508e"
      }
     },
     "4e735d29cb4d4fa2ba14d5c9f32437da": {
      "model_module": "@jupyter-widgets/controls",
      "model_module_version": "1.5.0",
      "model_name": "HTMLModel",
      "state": {
       "_dom_classes": [],
       "_model_module": "@jupyter-widgets/controls",
       "_model_module_version": "1.5.0",
       "_model_name": "HTMLModel",
       "_view_count": null,
       "_view_module": "@jupyter-widgets/controls",
       "_view_module_version": "1.5.0",
       "_view_name": "HTMLView",
       "description": "",
       "description_tooltip": null,
       "layout": "IPY_MODEL_42842aea66374bfb9e3f9b259e4ba90c",
       "placeholder": "​",
       "style": "IPY_MODEL_172175ba72d04c6eaf2c9478d6bd820d",
       "value": "vocab.txt: 100%"
      }
     },
     "524a7eed0ec641c38e278a857300afb5": {
      "model_module": "@jupyter-widgets/controls",
      "model_module_version": "1.5.0",
      "model_name": "DescriptionStyleModel",
      "state": {
       "_model_module": "@jupyter-widgets/controls",
       "_model_module_version": "1.5.0",
       "_model_name": "DescriptionStyleModel",
       "_view_count": null,
       "_view_module": "@jupyter-widgets/base",
       "_view_module_version": "1.2.0",
       "_view_name": "StyleView",
       "description_width": ""
      }
     },
     "5281cedbffe2415da5b8ab42576529c7": {
      "model_module": "@jupyter-widgets/base",
      "model_module_version": "1.2.0",
      "model_name": "LayoutModel",
      "state": {
       "_model_module": "@jupyter-widgets/base",
       "_model_module_version": "1.2.0",
       "_model_name": "LayoutModel",
       "_view_count": null,
       "_view_module": "@jupyter-widgets/base",
       "_view_module_version": "1.2.0",
       "_view_name": "LayoutView",
       "align_content": null,
       "align_items": null,
       "align_self": null,
       "border": null,
       "bottom": null,
       "display": null,
       "flex": null,
       "flex_flow": null,
       "grid_area": null,
       "grid_auto_columns": null,
       "grid_auto_flow": null,
       "grid_auto_rows": null,
       "grid_column": null,
       "grid_gap": null,
       "grid_row": null,
       "grid_template_areas": null,
       "grid_template_columns": null,
       "grid_template_rows": null,
       "height": null,
       "justify_content": null,
       "justify_items": null,
       "left": null,
       "margin": null,
       "max_height": null,
       "max_width": null,
       "min_height": null,
       "min_width": null,
       "object_fit": null,
       "object_position": null,
       "order": null,
       "overflow": null,
       "overflow_x": null,
       "overflow_y": null,
       "padding": null,
       "right": null,
       "top": null,
       "visibility": null,
       "width": null
      }
     },
     "55bac9bf06cd45b5a3c8e4f789201d0a": {
      "model_module": "@jupyter-widgets/controls",
      "model_module_version": "1.5.0",
      "model_name": "ProgressStyleModel",
      "state": {
       "_model_module": "@jupyter-widgets/controls",
       "_model_module_version": "1.5.0",
       "_model_name": "ProgressStyleModel",
       "_view_count": null,
       "_view_module": "@jupyter-widgets/base",
       "_view_module_version": "1.2.0",
       "_view_name": "StyleView",
       "bar_color": null,
       "description_width": ""
      }
     },
     "573482451fc3442da9e41af70fd131e9": {
      "model_module": "@jupyter-widgets/controls",
      "model_module_version": "1.5.0",
      "model_name": "HTMLModel",
      "state": {
       "_dom_classes": [],
       "_model_module": "@jupyter-widgets/controls",
       "_model_module_version": "1.5.0",
       "_model_name": "HTMLModel",
       "_view_count": null,
       "_view_module": "@jupyter-widgets/controls",
       "_view_module_version": "1.5.0",
       "_view_name": "HTMLView",
       "description": "",
       "description_tooltip": null,
       "layout": "IPY_MODEL_77cb223d9429452888e8ade26209bd33",
       "placeholder": "​",
       "style": "IPY_MODEL_abd0f043af164b6fa4c1f66810925928",
       "value": " 232k/232k [00:00&lt;00:00, 6.99MB/s]"
      }
     },
     "57ace39356ef48989decceeccd2515c7": {
      "model_module": "@jupyter-widgets/controls",
      "model_module_version": "1.5.0",
      "model_name": "HBoxModel",
      "state": {
       "_dom_classes": [],
       "_model_module": "@jupyter-widgets/controls",
       "_model_module_version": "1.5.0",
       "_model_name": "HBoxModel",
       "_view_count": null,
       "_view_module": "@jupyter-widgets/controls",
       "_view_module_version": "1.5.0",
       "_view_name": "HBoxView",
       "box_style": "",
       "children": [
        "IPY_MODEL_4e735d29cb4d4fa2ba14d5c9f32437da",
        "IPY_MODEL_eb76afd2d14d454eaa6984b616022660",
        "IPY_MODEL_573482451fc3442da9e41af70fd131e9"
       ],
       "layout": "IPY_MODEL_9fa6ab45ad8441fa9e39def713566463"
      }
     },
     "597f83a0e223485a85982faa82e3afdb": {
      "model_module": "@jupyter-widgets/controls",
      "model_module_version": "1.5.0",
      "model_name": "DescriptionStyleModel",
      "state": {
       "_model_module": "@jupyter-widgets/controls",
       "_model_module_version": "1.5.0",
       "_model_name": "DescriptionStyleModel",
       "_view_count": null,
       "_view_module": "@jupyter-widgets/base",
       "_view_module_version": "1.2.0",
       "_view_name": "StyleView",
       "description_width": ""
      }
     },
     "59e1d120f1044ecfa6f937574fb1eb82": {
      "model_module": "@jupyter-widgets/controls",
      "model_module_version": "1.5.0",
      "model_name": "HTMLModel",
      "state": {
       "_dom_classes": [],
       "_model_module": "@jupyter-widgets/controls",
       "_model_module_version": "1.5.0",
       "_model_name": "HTMLModel",
       "_view_count": null,
       "_view_module": "@jupyter-widgets/controls",
       "_view_module_version": "1.5.0",
       "_view_name": "HTMLView",
       "description": "",
       "description_tooltip": null,
       "layout": "IPY_MODEL_c5a3de31557640dbb8773674b287936d",
       "placeholder": "​",
       "style": "IPY_MODEL_bf0066bf78d547a0aebf57daccc1419a",
       "value": "tokenizer_config.json: 100%"
      }
     },
     "5ababb056a7f459bb3c3e0f34b89b818": {
      "model_module": "@jupyter-widgets/controls",
      "model_module_version": "1.5.0",
      "model_name": "ProgressStyleModel",
      "state": {
       "_model_module": "@jupyter-widgets/controls",
       "_model_module_version": "1.5.0",
       "_model_name": "ProgressStyleModel",
       "_view_count": null,
       "_view_module": "@jupyter-widgets/base",
       "_view_module_version": "1.2.0",
       "_view_name": "StyleView",
       "bar_color": null,
       "description_width": ""
      }
     },
     "624680e4aed046c5b1782fcef2b47d20": {
      "model_module": "@jupyter-widgets/base",
      "model_module_version": "1.2.0",
      "model_name": "LayoutModel",
      "state": {
       "_model_module": "@jupyter-widgets/base",
       "_model_module_version": "1.2.0",
       "_model_name": "LayoutModel",
       "_view_count": null,
       "_view_module": "@jupyter-widgets/base",
       "_view_module_version": "1.2.0",
       "_view_name": "LayoutView",
       "align_content": null,
       "align_items": null,
       "align_self": null,
       "border": null,
       "bottom": null,
       "display": null,
       "flex": null,
       "flex_flow": null,
       "grid_area": null,
       "grid_auto_columns": null,
       "grid_auto_flow": null,
       "grid_auto_rows": null,
       "grid_column": null,
       "grid_gap": null,
       "grid_row": null,
       "grid_template_areas": null,
       "grid_template_columns": null,
       "grid_template_rows": null,
       "height": null,
       "justify_content": null,
       "justify_items": null,
       "left": null,
       "margin": null,
       "max_height": null,
       "max_width": null,
       "min_height": null,
       "min_width": null,
       "object_fit": null,
       "object_position": null,
       "order": null,
       "overflow": null,
       "overflow_x": null,
       "overflow_y": null,
       "padding": null,
       "right": null,
       "top": null,
       "visibility": null,
       "width": null
      }
     },
     "65fd6d60fa204bbc93c0f8f7b79a715d": {
      "model_module": "@jupyter-widgets/controls",
      "model_module_version": "1.5.0",
      "model_name": "DescriptionStyleModel",
      "state": {
       "_model_module": "@jupyter-widgets/controls",
       "_model_module_version": "1.5.0",
       "_model_name": "DescriptionStyleModel",
       "_view_count": null,
       "_view_module": "@jupyter-widgets/base",
       "_view_module_version": "1.2.0",
       "_view_name": "StyleView",
       "description_width": ""
      }
     },
     "666a3cfc9f9c4bac9b7b234bcc3e63bd": {
      "model_module": "@jupyter-widgets/controls",
      "model_module_version": "1.5.0",
      "model_name": "FloatProgressModel",
      "state": {
       "_dom_classes": [],
       "_model_module": "@jupyter-widgets/controls",
       "_model_module_version": "1.5.0",
       "_model_name": "FloatProgressModel",
       "_view_count": null,
       "_view_module": "@jupyter-widgets/controls",
       "_view_module_version": "1.5.0",
       "_view_name": "ProgressView",
       "bar_style": "success",
       "description": "",
       "description_tooltip": null,
       "layout": "IPY_MODEL_181fb3b51f3b4544b70a6686d5f7e9c6",
       "max": 570.0,
       "min": 0.0,
       "orientation": "horizontal",
       "style": "IPY_MODEL_a75cb418dffe48d5ba6703e9eaba3ac9",
       "value": 570.0
      }
     },
     "7529de93a71c4a24b947f9a85679ceff": {
      "model_module": "@jupyter-widgets/controls",
      "model_module_version": "1.5.0",
      "model_name": "HTMLModel",
      "state": {
       "_dom_classes": [],
       "_model_module": "@jupyter-widgets/controls",
       "_model_module_version": "1.5.0",
       "_model_name": "HTMLModel",
       "_view_count": null,
       "_view_module": "@jupyter-widgets/controls",
       "_view_module_version": "1.5.0",
       "_view_name": "HTMLView",
       "description": "",
       "description_tooltip": null,
       "layout": "IPY_MODEL_1a09b14e1309463e91e5e254e36ae087",
       "placeholder": "​",
       "style": "IPY_MODEL_7bdd206e35cf4a299c2d768167802e9a",
       "value": "config.json: 100%"
      }
     },
     "77cb223d9429452888e8ade26209bd33": {
      "model_module": "@jupyter-widgets/base",
      "model_module_version": "1.2.0",
      "model_name": "LayoutModel",
      "state": {
       "_model_module": "@jupyter-widgets/base",
       "_model_module_version": "1.2.0",
       "_model_name": "LayoutModel",
       "_view_count": null,
       "_view_module": "@jupyter-widgets/base",
       "_view_module_version": "1.2.0",
       "_view_name": "LayoutView",
       "align_content": null,
       "align_items": null,
       "align_self": null,
       "border": null,
       "bottom": null,
       "display": null,
       "flex": null,
       "flex_flow": null,
       "grid_area": null,
       "grid_auto_columns": null,
       "grid_auto_flow": null,
       "grid_auto_rows": null,
       "grid_column": null,
       "grid_gap": null,
       "grid_row": null,
       "grid_template_areas": null,
       "grid_template_columns": null,
       "grid_template_rows": null,
       "height": null,
       "justify_content": null,
       "justify_items": null,
       "left": null,
       "margin": null,
       "max_height": null,
       "max_width": null,
       "min_height": null,
       "min_width": null,
       "object_fit": null,
       "object_position": null,
       "order": null,
       "overflow": null,
       "overflow_x": null,
       "overflow_y": null,
       "padding": null,
       "right": null,
       "top": null,
       "visibility": null,
       "width": null
      }
     },
     "7812dcda3a7d41098c65033af7714bea": {
      "model_module": "@jupyter-widgets/base",
      "model_module_version": "1.2.0",
      "model_name": "LayoutModel",
      "state": {
       "_model_module": "@jupyter-widgets/base",
       "_model_module_version": "1.2.0",
       "_model_name": "LayoutModel",
       "_view_count": null,
       "_view_module": "@jupyter-widgets/base",
       "_view_module_version": "1.2.0",
       "_view_name": "LayoutView",
       "align_content": null,
       "align_items": null,
       "align_self": null,
       "border": null,
       "bottom": null,
       "display": null,
       "flex": null,
       "flex_flow": null,
       "grid_area": null,
       "grid_auto_columns": null,
       "grid_auto_flow": null,
       "grid_auto_rows": null,
       "grid_column": null,
       "grid_gap": null,
       "grid_row": null,
       "grid_template_areas": null,
       "grid_template_columns": null,
       "grid_template_rows": null,
       "height": null,
       "justify_content": null,
       "justify_items": null,
       "left": null,
       "margin": null,
       "max_height": null,
       "max_width": null,
       "min_height": null,
       "min_width": null,
       "object_fit": null,
       "object_position": null,
       "order": null,
       "overflow": null,
       "overflow_x": null,
       "overflow_y": null,
       "padding": null,
       "right": null,
       "top": null,
       "visibility": null,
       "width": null
      }
     },
     "7bdd206e35cf4a299c2d768167802e9a": {
      "model_module": "@jupyter-widgets/controls",
      "model_module_version": "1.5.0",
      "model_name": "DescriptionStyleModel",
      "state": {
       "_model_module": "@jupyter-widgets/controls",
       "_model_module_version": "1.5.0",
       "_model_name": "DescriptionStyleModel",
       "_view_count": null,
       "_view_module": "@jupyter-widgets/base",
       "_view_module_version": "1.2.0",
       "_view_name": "StyleView",
       "description_width": ""
      }
     },
     "89dcf90f32234cf99a3ca0b2fe04cf13": {
      "model_module": "@jupyter-widgets/base",
      "model_module_version": "1.2.0",
      "model_name": "LayoutModel",
      "state": {
       "_model_module": "@jupyter-widgets/base",
       "_model_module_version": "1.2.0",
       "_model_name": "LayoutModel",
       "_view_count": null,
       "_view_module": "@jupyter-widgets/base",
       "_view_module_version": "1.2.0",
       "_view_name": "LayoutView",
       "align_content": null,
       "align_items": null,
       "align_self": null,
       "border": null,
       "bottom": null,
       "display": null,
       "flex": null,
       "flex_flow": null,
       "grid_area": null,
       "grid_auto_columns": null,
       "grid_auto_flow": null,
       "grid_auto_rows": null,
       "grid_column": null,
       "grid_gap": null,
       "grid_row": null,
       "grid_template_areas": null,
       "grid_template_columns": null,
       "grid_template_rows": null,
       "height": null,
       "justify_content": null,
       "justify_items": null,
       "left": null,
       "margin": null,
       "max_height": null,
       "max_width": null,
       "min_height": null,
       "min_width": null,
       "object_fit": null,
       "object_position": null,
       "order": null,
       "overflow": null,
       "overflow_x": null,
       "overflow_y": null,
       "padding": null,
       "right": null,
       "top": null,
       "visibility": null,
       "width": null
      }
     },
     "8a04651b18f043698b5c3d8bca35bc0c": {
      "model_module": "@jupyter-widgets/controls",
      "model_module_version": "1.5.0",
      "model_name": "HBoxModel",
      "state": {
       "_dom_classes": [],
       "_model_module": "@jupyter-widgets/controls",
       "_model_module_version": "1.5.0",
       "_model_name": "HBoxModel",
       "_view_count": null,
       "_view_module": "@jupyter-widgets/controls",
       "_view_module_version": "1.5.0",
       "_view_name": "HBoxView",
       "box_style": "",
       "children": [
        "IPY_MODEL_7529de93a71c4a24b947f9a85679ceff",
        "IPY_MODEL_666a3cfc9f9c4bac9b7b234bcc3e63bd",
        "IPY_MODEL_cba830f04b274c4c82ae6e6746d44e50"
       ],
       "layout": "IPY_MODEL_a7e75ed68b7c4cd4a0c1551e7fcae159"
      }
     },
     "8d8a468f9a614e06abdbd3840af64c8b": {
      "model_module": "@jupyter-widgets/controls",
      "model_module_version": "1.5.0",
      "model_name": "FloatProgressModel",
      "state": {
       "_dom_classes": [],
       "_model_module": "@jupyter-widgets/controls",
       "_model_module_version": "1.5.0",
       "_model_name": "FloatProgressModel",
       "_view_count": null,
       "_view_module": "@jupyter-widgets/controls",
       "_view_module_version": "1.5.0",
       "_view_name": "ProgressView",
       "bar_style": "success",
       "description": "",
       "description_tooltip": null,
       "layout": "IPY_MODEL_7812dcda3a7d41098c65033af7714bea",
       "max": 466062.0,
       "min": 0.0,
       "orientation": "horizontal",
       "style": "IPY_MODEL_55bac9bf06cd45b5a3c8e4f789201d0a",
       "value": 466062.0
      }
     },
     "9fa6ab45ad8441fa9e39def713566463": {
      "model_module": "@jupyter-widgets/base",
      "model_module_version": "1.2.0",
      "model_name": "LayoutModel",
      "state": {
       "_model_module": "@jupyter-widgets/base",
       "_model_module_version": "1.2.0",
       "_model_name": "LayoutModel",
       "_view_count": null,
       "_view_module": "@jupyter-widgets/base",
       "_view_module_version": "1.2.0",
       "_view_name": "LayoutView",
       "align_content": null,
       "align_items": null,
       "align_self": null,
       "border": null,
       "bottom": null,
       "display": null,
       "flex": null,
       "flex_flow": null,
       "grid_area": null,
       "grid_auto_columns": null,
       "grid_auto_flow": null,
       "grid_auto_rows": null,
       "grid_column": null,
       "grid_gap": null,
       "grid_row": null,
       "grid_template_areas": null,
       "grid_template_columns": null,
       "grid_template_rows": null,
       "height": null,
       "justify_content": null,
       "justify_items": null,
       "left": null,
       "margin": null,
       "max_height": null,
       "max_width": null,
       "min_height": null,
       "min_width": null,
       "object_fit": null,
       "object_position": null,
       "order": null,
       "overflow": null,
       "overflow_x": null,
       "overflow_y": null,
       "padding": null,
       "right": null,
       "top": null,
       "visibility": null,
       "width": null
      }
     },
     "a0aad60e55f1446eae4d658ae4bdcb44": {
      "model_module": "@jupyter-widgets/controls",
      "model_module_version": "1.5.0",
      "model_name": "FloatProgressModel",
      "state": {
       "_dom_classes": [],
       "_model_module": "@jupyter-widgets/controls",
       "_model_module_version": "1.5.0",
       "_model_name": "FloatProgressModel",
       "_view_count": null,
       "_view_module": "@jupyter-widgets/controls",
       "_view_module_version": "1.5.0",
       "_view_name": "ProgressView",
       "bar_style": "success",
       "description": "",
       "description_tooltip": null,
       "layout": "IPY_MODEL_08d7885bf4df4e18bd125b8c9a6f3780",
       "max": 440449768.0,
       "min": 0.0,
       "orientation": "horizontal",
       "style": "IPY_MODEL_ce3566462ff54808aa31c80ff36c03b1",
       "value": 440449768.0
      }
     },
     "a358100f9fd549858f513893ea1184f2": {
      "model_module": "@jupyter-widgets/controls",
      "model_module_version": "1.5.0",
      "model_name": "HBoxModel",
      "state": {
       "_dom_classes": [],
       "_model_module": "@jupyter-widgets/controls",
       "_model_module_version": "1.5.0",
       "_model_name": "HBoxModel",
       "_view_count": null,
       "_view_module": "@jupyter-widgets/controls",
       "_view_module_version": "1.5.0",
       "_view_name": "HBoxView",
       "box_style": "",
       "children": [
        "IPY_MODEL_be66411ec73c4233a05388222d093835",
        "IPY_MODEL_8d8a468f9a614e06abdbd3840af64c8b",
        "IPY_MODEL_092a05cbb9a14b9ba1abc7aa3112dab0"
       ],
       "layout": "IPY_MODEL_0d8d72553cb7436ba1824716bae0aa9c"
      }
     },
     "a74fa46ef22c463f8cd7f32fbd5393ca": {
      "model_module": "@jupyter-widgets/controls",
      "model_module_version": "1.5.0",
      "model_name": "HTMLModel",
      "state": {
       "_dom_classes": [],
       "_model_module": "@jupyter-widgets/controls",
       "_model_module_version": "1.5.0",
       "_model_name": "HTMLModel",
       "_view_count": null,
       "_view_module": "@jupyter-widgets/controls",
       "_view_module_version": "1.5.0",
       "_view_name": "HTMLView",
       "description": "",
       "description_tooltip": null,
       "layout": "IPY_MODEL_c2bd79cd6a7346e6b82180b056d4393d",
       "placeholder": "​",
       "style": "IPY_MODEL_524a7eed0ec641c38e278a857300afb5",
       "value": "model.safetensors: 100%"
      }
     },
     "a75cb418dffe48d5ba6703e9eaba3ac9": {
      "model_module": "@jupyter-widgets/controls",
      "model_module_version": "1.5.0",
      "model_name": "ProgressStyleModel",
      "state": {
       "_model_module": "@jupyter-widgets/controls",
       "_model_module_version": "1.5.0",
       "_model_name": "ProgressStyleModel",
       "_view_count": null,
       "_view_module": "@jupyter-widgets/base",
       "_view_module_version": "1.2.0",
       "_view_name": "StyleView",
       "bar_color": null,
       "description_width": ""
      }
     },
     "a7e75ed68b7c4cd4a0c1551e7fcae159": {
      "model_module": "@jupyter-widgets/base",
      "model_module_version": "1.2.0",
      "model_name": "LayoutModel",
      "state": {
       "_model_module": "@jupyter-widgets/base",
       "_model_module_version": "1.2.0",
       "_model_name": "LayoutModel",
       "_view_count": null,
       "_view_module": "@jupyter-widgets/base",
       "_view_module_version": "1.2.0",
       "_view_name": "LayoutView",
       "align_content": null,
       "align_items": null,
       "align_self": null,
       "border": null,
       "bottom": null,
       "display": null,
       "flex": null,
       "flex_flow": null,
       "grid_area": null,
       "grid_auto_columns": null,
       "grid_auto_flow": null,
       "grid_auto_rows": null,
       "grid_column": null,
       "grid_gap": null,
       "grid_row": null,
       "grid_template_areas": null,
       "grid_template_columns": null,
       "grid_template_rows": null,
       "height": null,
       "justify_content": null,
       "justify_items": null,
       "left": null,
       "margin": null,
       "max_height": null,
       "max_width": null,
       "min_height": null,
       "min_width": null,
       "object_fit": null,
       "object_position": null,
       "order": null,
       "overflow": null,
       "overflow_x": null,
       "overflow_y": null,
       "padding": null,
       "right": null,
       "top": null,
       "visibility": null,
       "width": null
      }
     },
     "abd0f043af164b6fa4c1f66810925928": {
      "model_module": "@jupyter-widgets/controls",
      "model_module_version": "1.5.0",
      "model_name": "DescriptionStyleModel",
      "state": {
       "_model_module": "@jupyter-widgets/controls",
       "_model_module_version": "1.5.0",
       "_model_name": "DescriptionStyleModel",
       "_view_count": null,
       "_view_module": "@jupyter-widgets/base",
       "_view_module_version": "1.2.0",
       "_view_name": "StyleView",
       "description_width": ""
      }
     },
     "aeeefee8f43b4ccdaf985edb7f37b37d": {
      "model_module": "@jupyter-widgets/controls",
      "model_module_version": "1.5.0",
      "model_name": "HTMLModel",
      "state": {
       "_dom_classes": [],
       "_model_module": "@jupyter-widgets/controls",
       "_model_module_version": "1.5.0",
       "_model_name": "HTMLModel",
       "_view_count": null,
       "_view_module": "@jupyter-widgets/controls",
       "_view_module_version": "1.5.0",
       "_view_name": "HTMLView",
       "description": "",
       "description_tooltip": null,
       "layout": "IPY_MODEL_89dcf90f32234cf99a3ca0b2fe04cf13",
       "placeholder": "​",
       "style": "IPY_MODEL_bac7aef9ffb743e1bacb98a73f61eaa8",
       "value": " 48.0/48.0 [00:00&lt;00:00, 5.59kB/s]"
      }
     },
     "bac7aef9ffb743e1bacb98a73f61eaa8": {
      "model_module": "@jupyter-widgets/controls",
      "model_module_version": "1.5.0",
      "model_name": "DescriptionStyleModel",
      "state": {
       "_model_module": "@jupyter-widgets/controls",
       "_model_module_version": "1.5.0",
       "_model_name": "DescriptionStyleModel",
       "_view_count": null,
       "_view_module": "@jupyter-widgets/base",
       "_view_module_version": "1.2.0",
       "_view_name": "StyleView",
       "description_width": ""
      }
     },
     "be66411ec73c4233a05388222d093835": {
      "model_module": "@jupyter-widgets/controls",
      "model_module_version": "1.5.0",
      "model_name": "HTMLModel",
      "state": {
       "_dom_classes": [],
       "_model_module": "@jupyter-widgets/controls",
       "_model_module_version": "1.5.0",
       "_model_name": "HTMLModel",
       "_view_count": null,
       "_view_module": "@jupyter-widgets/controls",
       "_view_module_version": "1.5.0",
       "_view_name": "HTMLView",
       "description": "",
       "description_tooltip": null,
       "layout": "IPY_MODEL_fbc33622a0c74058b91f5ab9a2ab8293",
       "placeholder": "​",
       "style": "IPY_MODEL_597f83a0e223485a85982faa82e3afdb",
       "value": "tokenizer.json: 100%"
      }
     },
     "bf0066bf78d547a0aebf57daccc1419a": {
      "model_module": "@jupyter-widgets/controls",
      "model_module_version": "1.5.0",
      "model_name": "DescriptionStyleModel",
      "state": {
       "_model_module": "@jupyter-widgets/controls",
       "_model_module_version": "1.5.0",
       "_model_name": "DescriptionStyleModel",
       "_view_count": null,
       "_view_module": "@jupyter-widgets/base",
       "_view_module_version": "1.2.0",
       "_view_name": "StyleView",
       "description_width": ""
      }
     },
     "c2bd79cd6a7346e6b82180b056d4393d": {
      "model_module": "@jupyter-widgets/base",
      "model_module_version": "1.2.0",
      "model_name": "LayoutModel",
      "state": {
       "_model_module": "@jupyter-widgets/base",
       "_model_module_version": "1.2.0",
       "_model_name": "LayoutModel",
       "_view_count": null,
       "_view_module": "@jupyter-widgets/base",
       "_view_module_version": "1.2.0",
       "_view_name": "LayoutView",
       "align_content": null,
       "align_items": null,
       "align_self": null,
       "border": null,
       "bottom": null,
       "display": null,
       "flex": null,
       "flex_flow": null,
       "grid_area": null,
       "grid_auto_columns": null,
       "grid_auto_flow": null,
       "grid_auto_rows": null,
       "grid_column": null,
       "grid_gap": null,
       "grid_row": null,
       "grid_template_areas": null,
       "grid_template_columns": null,
       "grid_template_rows": null,
       "height": null,
       "justify_content": null,
       "justify_items": null,
       "left": null,
       "margin": null,
       "max_height": null,
       "max_width": null,
       "min_height": null,
       "min_width": null,
       "object_fit": null,
       "object_position": null,
       "order": null,
       "overflow": null,
       "overflow_x": null,
       "overflow_y": null,
       "padding": null,
       "right": null,
       "top": null,
       "visibility": null,
       "width": null
      }
     },
     "c5a3de31557640dbb8773674b287936d": {
      "model_module": "@jupyter-widgets/base",
      "model_module_version": "1.2.0",
      "model_name": "LayoutModel",
      "state": {
       "_model_module": "@jupyter-widgets/base",
       "_model_module_version": "1.2.0",
       "_model_name": "LayoutModel",
       "_view_count": null,
       "_view_module": "@jupyter-widgets/base",
       "_view_module_version": "1.2.0",
       "_view_name": "LayoutView",
       "align_content": null,
       "align_items": null,
       "align_self": null,
       "border": null,
       "bottom": null,
       "display": null,
       "flex": null,
       "flex_flow": null,
       "grid_area": null,
       "grid_auto_columns": null,
       "grid_auto_flow": null,
       "grid_auto_rows": null,
       "grid_column": null,
       "grid_gap": null,
       "grid_row": null,
       "grid_template_areas": null,
       "grid_template_columns": null,
       "grid_template_rows": null,
       "height": null,
       "justify_content": null,
       "justify_items": null,
       "left": null,
       "margin": null,
       "max_height": null,
       "max_width": null,
       "min_height": null,
       "min_width": null,
       "object_fit": null,
       "object_position": null,
       "order": null,
       "overflow": null,
       "overflow_x": null,
       "overflow_y": null,
       "padding": null,
       "right": null,
       "top": null,
       "visibility": null,
       "width": null
      }
     },
     "c6a14062773547a8904a67f04291483e": {
      "model_module": "@jupyter-widgets/base",
      "model_module_version": "1.2.0",
      "model_name": "LayoutModel",
      "state": {
       "_model_module": "@jupyter-widgets/base",
       "_model_module_version": "1.2.0",
       "_model_name": "LayoutModel",
       "_view_count": null,
       "_view_module": "@jupyter-widgets/base",
       "_view_module_version": "1.2.0",
       "_view_name": "LayoutView",
       "align_content": null,
       "align_items": null,
       "align_self": null,
       "border": null,
       "bottom": null,
       "display": null,
       "flex": null,
       "flex_flow": null,
       "grid_area": null,
       "grid_auto_columns": null,
       "grid_auto_flow": null,
       "grid_auto_rows": null,
       "grid_column": null,
       "grid_gap": null,
       "grid_row": null,
       "grid_template_areas": null,
       "grid_template_columns": null,
       "grid_template_rows": null,
       "height": null,
       "justify_content": null,
       "justify_items": null,
       "left": null,
       "margin": null,
       "max_height": null,
       "max_width": null,
       "min_height": null,
       "min_width": null,
       "object_fit": null,
       "object_position": null,
       "order": null,
       "overflow": null,
       "overflow_x": null,
       "overflow_y": null,
       "padding": null,
       "right": null,
       "top": null,
       "visibility": null,
       "width": null
      }
     },
     "c8d07557bf4e4d61bd1d61ef5e04b82e": {
      "model_module": "@jupyter-widgets/base",
      "model_module_version": "1.2.0",
      "model_name": "LayoutModel",
      "state": {
       "_model_module": "@jupyter-widgets/base",
       "_model_module_version": "1.2.0",
       "_model_name": "LayoutModel",
       "_view_count": null,
       "_view_module": "@jupyter-widgets/base",
       "_view_module_version": "1.2.0",
       "_view_name": "LayoutView",
       "align_content": null,
       "align_items": null,
       "align_self": null,
       "border": null,
       "bottom": null,
       "display": null,
       "flex": null,
       "flex_flow": null,
       "grid_area": null,
       "grid_auto_columns": null,
       "grid_auto_flow": null,
       "grid_auto_rows": null,
       "grid_column": null,
       "grid_gap": null,
       "grid_row": null,
       "grid_template_areas": null,
       "grid_template_columns": null,
       "grid_template_rows": null,
       "height": null,
       "justify_content": null,
       "justify_items": null,
       "left": null,
       "margin": null,
       "max_height": null,
       "max_width": null,
       "min_height": null,
       "min_width": null,
       "object_fit": null,
       "object_position": null,
       "order": null,
       "overflow": null,
       "overflow_x": null,
       "overflow_y": null,
       "padding": null,
       "right": null,
       "top": null,
       "visibility": null,
       "width": null
      }
     },
     "cba830f04b274c4c82ae6e6746d44e50": {
      "model_module": "@jupyter-widgets/controls",
      "model_module_version": "1.5.0",
      "model_name": "HTMLModel",
      "state": {
       "_dom_classes": [],
       "_model_module": "@jupyter-widgets/controls",
       "_model_module_version": "1.5.0",
       "_model_name": "HTMLModel",
       "_view_count": null,
       "_view_module": "@jupyter-widgets/controls",
       "_view_module_version": "1.5.0",
       "_view_name": "HTMLView",
       "description": "",
       "description_tooltip": null,
       "layout": "IPY_MODEL_eaf3c24bfb324c6eb79f57dc469bf901",
       "placeholder": "​",
       "style": "IPY_MODEL_04ca97d610a543c2bd3bb4af553b7448",
       "value": " 570/570 [00:00&lt;00:00, 60.0kB/s]"
      }
     },
     "ce3566462ff54808aa31c80ff36c03b1": {
      "model_module": "@jupyter-widgets/controls",
      "model_module_version": "1.5.0",
      "model_name": "ProgressStyleModel",
      "state": {
       "_model_module": "@jupyter-widgets/controls",
       "_model_module_version": "1.5.0",
       "_model_name": "ProgressStyleModel",
       "_view_count": null,
       "_view_module": "@jupyter-widgets/base",
       "_view_module_version": "1.2.0",
       "_view_name": "StyleView",
       "bar_color": null,
       "description_width": ""
      }
     },
     "e69353c87981417094bf5d8cab57445b": {
      "model_module": "@jupyter-widgets/controls",
      "model_module_version": "1.5.0",
      "model_name": "HTMLModel",
      "state": {
       "_dom_classes": [],
       "_model_module": "@jupyter-widgets/controls",
       "_model_module_version": "1.5.0",
       "_model_name": "HTMLModel",
       "_view_count": null,
       "_view_module": "@jupyter-widgets/controls",
       "_view_module_version": "1.5.0",
       "_view_name": "HTMLView",
       "description": "",
       "description_tooltip": null,
       "layout": "IPY_MODEL_5281cedbffe2415da5b8ab42576529c7",
       "placeholder": "​",
       "style": "IPY_MODEL_3ffe39e82bd74914ab199a0ef427beba",
       "value": " 440M/440M [00:02&lt;00:00, 224MB/s]"
      }
     },
     "eaf3c24bfb324c6eb79f57dc469bf901": {
      "model_module": "@jupyter-widgets/base",
      "model_module_version": "1.2.0",
      "model_name": "LayoutModel",
      "state": {
       "_model_module": "@jupyter-widgets/base",
       "_model_module_version": "1.2.0",
       "_model_name": "LayoutModel",
       "_view_count": null,
       "_view_module": "@jupyter-widgets/base",
       "_view_module_version": "1.2.0",
       "_view_name": "LayoutView",
       "align_content": null,
       "align_items": null,
       "align_self": null,
       "border": null,
       "bottom": null,
       "display": null,
       "flex": null,
       "flex_flow": null,
       "grid_area": null,
       "grid_auto_columns": null,
       "grid_auto_flow": null,
       "grid_auto_rows": null,
       "grid_column": null,
       "grid_gap": null,
       "grid_row": null,
       "grid_template_areas": null,
       "grid_template_columns": null,
       "grid_template_rows": null,
       "height": null,
       "justify_content": null,
       "justify_items": null,
       "left": null,
       "margin": null,
       "max_height": null,
       "max_width": null,
       "min_height": null,
       "min_width": null,
       "object_fit": null,
       "object_position": null,
       "order": null,
       "overflow": null,
       "overflow_x": null,
       "overflow_y": null,
       "padding": null,
       "right": null,
       "top": null,
       "visibility": null,
       "width": null
      }
     },
     "eb76afd2d14d454eaa6984b616022660": {
      "model_module": "@jupyter-widgets/controls",
      "model_module_version": "1.5.0",
      "model_name": "FloatProgressModel",
      "state": {
       "_dom_classes": [],
       "_model_module": "@jupyter-widgets/controls",
       "_model_module_version": "1.5.0",
       "_model_name": "FloatProgressModel",
       "_view_count": null,
       "_view_module": "@jupyter-widgets/controls",
       "_view_module_version": "1.5.0",
       "_view_name": "ProgressView",
       "bar_style": "success",
       "description": "",
       "description_tooltip": null,
       "layout": "IPY_MODEL_16234cbe0071474ea004de11021fb154",
       "max": 231508.0,
       "min": 0.0,
       "orientation": "horizontal",
       "style": "IPY_MODEL_5ababb056a7f459bb3c3e0f34b89b818",
       "value": 231508.0
      }
     },
     "efc1812f5da443eba8d851afa31f6512": {
      "model_module": "@jupyter-widgets/controls",
      "model_module_version": "1.5.0",
      "model_name": "ProgressStyleModel",
      "state": {
       "_model_module": "@jupyter-widgets/controls",
       "_model_module_version": "1.5.0",
       "_model_name": "ProgressStyleModel",
       "_view_count": null,
       "_view_module": "@jupyter-widgets/base",
       "_view_module_version": "1.2.0",
       "_view_name": "StyleView",
       "bar_color": null,
       "description_width": ""
      }
     },
     "fbc33622a0c74058b91f5ab9a2ab8293": {
      "model_module": "@jupyter-widgets/base",
      "model_module_version": "1.2.0",
      "model_name": "LayoutModel",
      "state": {
       "_model_module": "@jupyter-widgets/base",
       "_model_module_version": "1.2.0",
       "_model_name": "LayoutModel",
       "_view_count": null,
       "_view_module": "@jupyter-widgets/base",
       "_view_module_version": "1.2.0",
       "_view_name": "LayoutView",
       "align_content": null,
       "align_items": null,
       "align_self": null,
       "border": null,
       "bottom": null,
       "display": null,
       "flex": null,
       "flex_flow": null,
       "grid_area": null,
       "grid_auto_columns": null,
       "grid_auto_flow": null,
       "grid_auto_rows": null,
       "grid_column": null,
       "grid_gap": null,
       "grid_row": null,
       "grid_template_areas": null,
       "grid_template_columns": null,
       "grid_template_rows": null,
       "height": null,
       "justify_content": null,
       "justify_items": null,
       "left": null,
       "margin": null,
       "max_height": null,
       "max_width": null,
       "min_height": null,
       "min_width": null,
       "object_fit": null,
       "object_position": null,
       "order": null,
       "overflow": null,
       "overflow_x": null,
       "overflow_y": null,
       "padding": null,
       "right": null,
       "top": null,
       "visibility": null,
       "width": null
      }
     }
    },
    "version_major": 2,
    "version_minor": 0
   }
  }
 },
 "nbformat": 4,
 "nbformat_minor": 5
}
